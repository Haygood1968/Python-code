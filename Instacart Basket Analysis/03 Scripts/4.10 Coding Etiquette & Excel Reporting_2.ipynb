{
 "cells": [
  {
   "cell_type": "markdown",
   "id": "52c6804a",
   "metadata": {},
   "source": [
    "### Task 4.10 - Part 1 continued"
   ]
  },
  {
   "cell_type": "markdown",
   "id": "9a734cfc",
   "metadata": {},
   "source": [
    "##### Table of Contents:\n",
    "5.\tThe marketing and business strategy units at Instacart want to create more-relevant marketing strategies for different products and are, thus, curious about customer profiling in their database. Create a profiling variable based on age, income, certain goods in the “department_id” column, and number of dependents. You might also use the “orders_day_of_the_week” and “order_hour_of_day” columns if you can think of a way they would impact customer profiles. (Hint: As an example, try thinking of what characteristics would lead you to the profile “Single adult” or “Young parent.”)"
   ]
  },
  {
   "cell_type": "code",
   "execution_count": 1,
   "id": "b796108a",
   "metadata": {},
   "outputs": [],
   "source": [
    "# Import libraries\n",
    "import pandas as pd\n",
    "import numpy as np\n",
    "import os\n",
    "import matplotlib.pyplot as plt\n",
    "import seaborn as sns\n",
    "import scipy"
   ]
  },
  {
   "cell_type": "code",
   "execution_count": 2,
   "id": "2b9341be",
   "metadata": {},
   "outputs": [],
   "source": [
    "path = r'C:\\Users\\Jay\\Documents\\Instacart Basket Analysis'"
   ]
  },
  {
   "cell_type": "code",
   "execution_count": 3,
   "id": "970dfb93",
   "metadata": {},
   "outputs": [],
   "source": [
    "# import prepared data\n",
    "df = pd.read_pickle(os.path.join(path, '02 Data Sets', 'Prepared Data', 'df_freq_cust.pkl'))"
   ]
  },
  {
   "cell_type": "code",
   "execution_count": 4,
   "id": "e351b80b",
   "metadata": {},
   "outputs": [
    {
     "data": {
      "text/plain": [
       "(30993489, 34)"
      ]
     },
     "execution_count": 4,
     "metadata": {},
     "output_type": "execute_result"
    }
   ],
   "source": [
    "df.shape"
   ]
  },
  {
   "cell_type": "code",
   "execution_count": 5,
   "id": "2989c066",
   "metadata": {},
   "outputs": [
    {
     "data": {
      "text/html": [
       "<div>\n",
       "<style scoped>\n",
       "    .dataframe tbody tr th:only-of-type {\n",
       "        vertical-align: middle;\n",
       "    }\n",
       "\n",
       "    .dataframe tbody tr th {\n",
       "        vertical-align: top;\n",
       "    }\n",
       "\n",
       "    .dataframe thead th {\n",
       "        text-align: right;\n",
       "    }\n",
       "</style>\n",
       "<table border=\"1\" class=\"dataframe\">\n",
       "  <thead>\n",
       "    <tr style=\"text-align: right;\">\n",
       "      <th></th>\n",
       "      <th>order_id</th>\n",
       "      <th>user_id</th>\n",
       "      <th>order_number</th>\n",
       "      <th>orders_day_of_week</th>\n",
       "      <th>order_hour_of_day</th>\n",
       "      <th>days_since_prior_order</th>\n",
       "      <th>new_customer</th>\n",
       "      <th>product_id</th>\n",
       "      <th>add_to_cart_order</th>\n",
       "      <th>reordered</th>\n",
       "      <th>...</th>\n",
       "      <th>frequency_flag</th>\n",
       "      <th>gender</th>\n",
       "      <th>state</th>\n",
       "      <th>age</th>\n",
       "      <th>date_joined</th>\n",
       "      <th>dependants</th>\n",
       "      <th>family_status</th>\n",
       "      <th>income</th>\n",
       "      <th>region</th>\n",
       "      <th>exclusion_flag</th>\n",
       "    </tr>\n",
       "  </thead>\n",
       "  <tbody>\n",
       "    <tr>\n",
       "      <th>0</th>\n",
       "      <td>2539329</td>\n",
       "      <td>1</td>\n",
       "      <td>1</td>\n",
       "      <td>2</td>\n",
       "      <td>8</td>\n",
       "      <td>NaN</td>\n",
       "      <td>True</td>\n",
       "      <td>196</td>\n",
       "      <td>1</td>\n",
       "      <td>0</td>\n",
       "      <td>...</td>\n",
       "      <td>Non-frequent customer</td>\n",
       "      <td>Female</td>\n",
       "      <td>Alabama</td>\n",
       "      <td>31</td>\n",
       "      <td>2/17/2019</td>\n",
       "      <td>3</td>\n",
       "      <td>married</td>\n",
       "      <td>40423</td>\n",
       "      <td>South</td>\n",
       "      <td>Frequent Customer</td>\n",
       "    </tr>\n",
       "    <tr>\n",
       "      <th>1</th>\n",
       "      <td>2539329</td>\n",
       "      <td>1</td>\n",
       "      <td>1</td>\n",
       "      <td>2</td>\n",
       "      <td>8</td>\n",
       "      <td>NaN</td>\n",
       "      <td>True</td>\n",
       "      <td>14084</td>\n",
       "      <td>2</td>\n",
       "      <td>0</td>\n",
       "      <td>...</td>\n",
       "      <td>Non-frequent customer</td>\n",
       "      <td>Female</td>\n",
       "      <td>Alabama</td>\n",
       "      <td>31</td>\n",
       "      <td>2/17/2019</td>\n",
       "      <td>3</td>\n",
       "      <td>married</td>\n",
       "      <td>40423</td>\n",
       "      <td>South</td>\n",
       "      <td>Frequent Customer</td>\n",
       "    </tr>\n",
       "    <tr>\n",
       "      <th>2</th>\n",
       "      <td>2539329</td>\n",
       "      <td>1</td>\n",
       "      <td>1</td>\n",
       "      <td>2</td>\n",
       "      <td>8</td>\n",
       "      <td>NaN</td>\n",
       "      <td>True</td>\n",
       "      <td>12427</td>\n",
       "      <td>3</td>\n",
       "      <td>0</td>\n",
       "      <td>...</td>\n",
       "      <td>Non-frequent customer</td>\n",
       "      <td>Female</td>\n",
       "      <td>Alabama</td>\n",
       "      <td>31</td>\n",
       "      <td>2/17/2019</td>\n",
       "      <td>3</td>\n",
       "      <td>married</td>\n",
       "      <td>40423</td>\n",
       "      <td>South</td>\n",
       "      <td>Frequent Customer</td>\n",
       "    </tr>\n",
       "    <tr>\n",
       "      <th>3</th>\n",
       "      <td>2539329</td>\n",
       "      <td>1</td>\n",
       "      <td>1</td>\n",
       "      <td>2</td>\n",
       "      <td>8</td>\n",
       "      <td>NaN</td>\n",
       "      <td>True</td>\n",
       "      <td>26088</td>\n",
       "      <td>4</td>\n",
       "      <td>0</td>\n",
       "      <td>...</td>\n",
       "      <td>Non-frequent customer</td>\n",
       "      <td>Female</td>\n",
       "      <td>Alabama</td>\n",
       "      <td>31</td>\n",
       "      <td>2/17/2019</td>\n",
       "      <td>3</td>\n",
       "      <td>married</td>\n",
       "      <td>40423</td>\n",
       "      <td>South</td>\n",
       "      <td>Frequent Customer</td>\n",
       "    </tr>\n",
       "    <tr>\n",
       "      <th>4</th>\n",
       "      <td>2539329</td>\n",
       "      <td>1</td>\n",
       "      <td>1</td>\n",
       "      <td>2</td>\n",
       "      <td>8</td>\n",
       "      <td>NaN</td>\n",
       "      <td>True</td>\n",
       "      <td>26405</td>\n",
       "      <td>5</td>\n",
       "      <td>0</td>\n",
       "      <td>...</td>\n",
       "      <td>Non-frequent customer</td>\n",
       "      <td>Female</td>\n",
       "      <td>Alabama</td>\n",
       "      <td>31</td>\n",
       "      <td>2/17/2019</td>\n",
       "      <td>3</td>\n",
       "      <td>married</td>\n",
       "      <td>40423</td>\n",
       "      <td>South</td>\n",
       "      <td>Frequent Customer</td>\n",
       "    </tr>\n",
       "  </tbody>\n",
       "</table>\n",
       "<p>5 rows × 34 columns</p>\n",
       "</div>"
      ],
      "text/plain": [
       "   order_id  user_id  order_number  orders_day_of_week  order_hour_of_day  \\\n",
       "0   2539329        1             1                   2                  8   \n",
       "1   2539329        1             1                   2                  8   \n",
       "2   2539329        1             1                   2                  8   \n",
       "3   2539329        1             1                   2                  8   \n",
       "4   2539329        1             1                   2                  8   \n",
       "\n",
       "   days_since_prior_order  new_customer  product_id  add_to_cart_order  \\\n",
       "0                     NaN          True         196                  1   \n",
       "1                     NaN          True       14084                  2   \n",
       "2                     NaN          True       12427                  3   \n",
       "3                     NaN          True       26088                  4   \n",
       "4                     NaN          True       26405                  5   \n",
       "\n",
       "   reordered  ...         frequency_flag  gender    state  age date_joined  \\\n",
       "0          0  ...  Non-frequent customer  Female  Alabama   31   2/17/2019   \n",
       "1          0  ...  Non-frequent customer  Female  Alabama   31   2/17/2019   \n",
       "2          0  ...  Non-frequent customer  Female  Alabama   31   2/17/2019   \n",
       "3          0  ...  Non-frequent customer  Female  Alabama   31   2/17/2019   \n",
       "4          0  ...  Non-frequent customer  Female  Alabama   31   2/17/2019   \n",
       "\n",
       "  dependants family_status income region     exclusion_flag  \n",
       "0          3       married  40423  South  Frequent Customer  \n",
       "1          3       married  40423  South  Frequent Customer  \n",
       "2          3       married  40423  South  Frequent Customer  \n",
       "3          3       married  40423  South  Frequent Customer  \n",
       "4          3       married  40423  South  Frequent Customer  \n",
       "\n",
       "[5 rows x 34 columns]"
      ]
     },
     "execution_count": 5,
     "metadata": {},
     "output_type": "execute_result"
    }
   ],
   "source": [
    "df.head()"
   ]
  },
  {
   "cell_type": "markdown",
   "id": "3df5f85b",
   "metadata": {},
   "source": [
    "###### Recent exclusion_flag data conflicts with previous frequency_flag. "
   ]
  },
  {
   "cell_type": "code",
   "execution_count": 6,
   "id": "e4778fa0",
   "metadata": {},
   "outputs": [],
   "source": [
    "# Drop frequency_flag column\n",
    "df = df.drop(columns = ['frequency_flag'])"
   ]
  },
  {
   "cell_type": "code",
   "execution_count": 7,
   "id": "3dcea2d7",
   "metadata": {},
   "outputs": [
    {
     "data": {
      "text/html": [
       "<div>\n",
       "<style scoped>\n",
       "    .dataframe tbody tr th:only-of-type {\n",
       "        vertical-align: middle;\n",
       "    }\n",
       "\n",
       "    .dataframe tbody tr th {\n",
       "        vertical-align: top;\n",
       "    }\n",
       "\n",
       "    .dataframe thead th {\n",
       "        text-align: right;\n",
       "    }\n",
       "</style>\n",
       "<table border=\"1\" class=\"dataframe\">\n",
       "  <thead>\n",
       "    <tr style=\"text-align: right;\">\n",
       "      <th></th>\n",
       "      <th>order_id</th>\n",
       "      <th>user_id</th>\n",
       "      <th>order_number</th>\n",
       "      <th>orders_day_of_week</th>\n",
       "      <th>order_hour_of_day</th>\n",
       "      <th>days_since_prior_order</th>\n",
       "      <th>new_customer</th>\n",
       "      <th>product_id</th>\n",
       "      <th>add_to_cart_order</th>\n",
       "      <th>reordered</th>\n",
       "      <th>...</th>\n",
       "      <th>frequency</th>\n",
       "      <th>gender</th>\n",
       "      <th>state</th>\n",
       "      <th>age</th>\n",
       "      <th>date_joined</th>\n",
       "      <th>dependants</th>\n",
       "      <th>family_status</th>\n",
       "      <th>income</th>\n",
       "      <th>region</th>\n",
       "      <th>exclusion_flag</th>\n",
       "    </tr>\n",
       "  </thead>\n",
       "  <tbody>\n",
       "    <tr>\n",
       "      <th>0</th>\n",
       "      <td>2539329</td>\n",
       "      <td>1</td>\n",
       "      <td>1</td>\n",
       "      <td>2</td>\n",
       "      <td>8</td>\n",
       "      <td>NaN</td>\n",
       "      <td>True</td>\n",
       "      <td>196</td>\n",
       "      <td>1</td>\n",
       "      <td>0</td>\n",
       "      <td>...</td>\n",
       "      <td>20.5</td>\n",
       "      <td>Female</td>\n",
       "      <td>Alabama</td>\n",
       "      <td>31</td>\n",
       "      <td>2/17/2019</td>\n",
       "      <td>3</td>\n",
       "      <td>married</td>\n",
       "      <td>40423</td>\n",
       "      <td>South</td>\n",
       "      <td>Frequent Customer</td>\n",
       "    </tr>\n",
       "    <tr>\n",
       "      <th>1</th>\n",
       "      <td>2539329</td>\n",
       "      <td>1</td>\n",
       "      <td>1</td>\n",
       "      <td>2</td>\n",
       "      <td>8</td>\n",
       "      <td>NaN</td>\n",
       "      <td>True</td>\n",
       "      <td>14084</td>\n",
       "      <td>2</td>\n",
       "      <td>0</td>\n",
       "      <td>...</td>\n",
       "      <td>20.5</td>\n",
       "      <td>Female</td>\n",
       "      <td>Alabama</td>\n",
       "      <td>31</td>\n",
       "      <td>2/17/2019</td>\n",
       "      <td>3</td>\n",
       "      <td>married</td>\n",
       "      <td>40423</td>\n",
       "      <td>South</td>\n",
       "      <td>Frequent Customer</td>\n",
       "    </tr>\n",
       "    <tr>\n",
       "      <th>2</th>\n",
       "      <td>2539329</td>\n",
       "      <td>1</td>\n",
       "      <td>1</td>\n",
       "      <td>2</td>\n",
       "      <td>8</td>\n",
       "      <td>NaN</td>\n",
       "      <td>True</td>\n",
       "      <td>12427</td>\n",
       "      <td>3</td>\n",
       "      <td>0</td>\n",
       "      <td>...</td>\n",
       "      <td>20.5</td>\n",
       "      <td>Female</td>\n",
       "      <td>Alabama</td>\n",
       "      <td>31</td>\n",
       "      <td>2/17/2019</td>\n",
       "      <td>3</td>\n",
       "      <td>married</td>\n",
       "      <td>40423</td>\n",
       "      <td>South</td>\n",
       "      <td>Frequent Customer</td>\n",
       "    </tr>\n",
       "    <tr>\n",
       "      <th>3</th>\n",
       "      <td>2539329</td>\n",
       "      <td>1</td>\n",
       "      <td>1</td>\n",
       "      <td>2</td>\n",
       "      <td>8</td>\n",
       "      <td>NaN</td>\n",
       "      <td>True</td>\n",
       "      <td>26088</td>\n",
       "      <td>4</td>\n",
       "      <td>0</td>\n",
       "      <td>...</td>\n",
       "      <td>20.5</td>\n",
       "      <td>Female</td>\n",
       "      <td>Alabama</td>\n",
       "      <td>31</td>\n",
       "      <td>2/17/2019</td>\n",
       "      <td>3</td>\n",
       "      <td>married</td>\n",
       "      <td>40423</td>\n",
       "      <td>South</td>\n",
       "      <td>Frequent Customer</td>\n",
       "    </tr>\n",
       "    <tr>\n",
       "      <th>4</th>\n",
       "      <td>2539329</td>\n",
       "      <td>1</td>\n",
       "      <td>1</td>\n",
       "      <td>2</td>\n",
       "      <td>8</td>\n",
       "      <td>NaN</td>\n",
       "      <td>True</td>\n",
       "      <td>26405</td>\n",
       "      <td>5</td>\n",
       "      <td>0</td>\n",
       "      <td>...</td>\n",
       "      <td>20.5</td>\n",
       "      <td>Female</td>\n",
       "      <td>Alabama</td>\n",
       "      <td>31</td>\n",
       "      <td>2/17/2019</td>\n",
       "      <td>3</td>\n",
       "      <td>married</td>\n",
       "      <td>40423</td>\n",
       "      <td>South</td>\n",
       "      <td>Frequent Customer</td>\n",
       "    </tr>\n",
       "  </tbody>\n",
       "</table>\n",
       "<p>5 rows × 33 columns</p>\n",
       "</div>"
      ],
      "text/plain": [
       "   order_id  user_id  order_number  orders_day_of_week  order_hour_of_day  \\\n",
       "0   2539329        1             1                   2                  8   \n",
       "1   2539329        1             1                   2                  8   \n",
       "2   2539329        1             1                   2                  8   \n",
       "3   2539329        1             1                   2                  8   \n",
       "4   2539329        1             1                   2                  8   \n",
       "\n",
       "   days_since_prior_order  new_customer  product_id  add_to_cart_order  \\\n",
       "0                     NaN          True         196                  1   \n",
       "1                     NaN          True       14084                  2   \n",
       "2                     NaN          True       12427                  3   \n",
       "3                     NaN          True       26088                  4   \n",
       "4                     NaN          True       26405                  5   \n",
       "\n",
       "   reordered  ... frequency  gender    state  age date_joined dependants  \\\n",
       "0          0  ...      20.5  Female  Alabama   31   2/17/2019          3   \n",
       "1          0  ...      20.5  Female  Alabama   31   2/17/2019          3   \n",
       "2          0  ...      20.5  Female  Alabama   31   2/17/2019          3   \n",
       "3          0  ...      20.5  Female  Alabama   31   2/17/2019          3   \n",
       "4          0  ...      20.5  Female  Alabama   31   2/17/2019          3   \n",
       "\n",
       "  family_status income region     exclusion_flag  \n",
       "0       married  40423  South  Frequent Customer  \n",
       "1       married  40423  South  Frequent Customer  \n",
       "2       married  40423  South  Frequent Customer  \n",
       "3       married  40423  South  Frequent Customer  \n",
       "4       married  40423  South  Frequent Customer  \n",
       "\n",
       "[5 rows x 33 columns]"
      ]
     },
     "execution_count": 7,
     "metadata": {},
     "output_type": "execute_result"
    }
   ],
   "source": [
    "df.head()"
   ]
  },
  {
   "cell_type": "markdown",
   "id": "88a06bde",
   "metadata": {},
   "source": [
    "5.\tThe marketing and business strategy units at Instacart want to create more-relevant marketing strategies for different products and are, thus, curious about customer profiling in their database. Create a profiling variable based on age, income, certain goods in the “department_id” column, and number of dependents. You might also use the “orders_day_of_the_week” and “order_hour_of_day” columns if you can think of a way they would impact customer profiles. (Hint: As an example, try thinking of what characteristics would lead you to the profile “Single adult” or “Young parent.”)"
   ]
  },
  {
   "cell_type": "markdown",
   "id": "852c3eab",
   "metadata": {},
   "source": [
    "###### Set age groups & create variable"
   ]
  },
  {
   "cell_type": "code",
   "execution_count": 8,
   "id": "0e59d7cc",
   "metadata": {},
   "outputs": [
    {
     "data": {
      "text/plain": [
       "18    478848\n",
       "19    496657\n",
       "20    480636\n",
       "21    489613\n",
       "22    491315\n",
       "       ...  \n",
       "77    478495\n",
       "78    471475\n",
       "79    508850\n",
       "80    493150\n",
       "81    486346\n",
       "Name: age, Length: 64, dtype: int64"
      ]
     },
     "execution_count": 8,
     "metadata": {},
     "output_type": "execute_result"
    }
   ],
   "source": [
    "# Check customer age ranges\n",
    "df['age'].value_counts().sort_index()"
   ]
  },
  {
   "cell_type": "code",
   "execution_count": 10,
   "id": "d3c1f67c",
   "metadata": {},
   "outputs": [],
   "source": [
    "# Set age groups \n",
    "age_group = []\n",
    "\n",
    "for value in df['age']:\n",
    "    if value <= 29:\n",
    "        age_group.append('18-29')\n",
    "    elif (value > 29) and (value <= 39):\n",
    "        age_group.append('30-39')\n",
    "    elif (value > 39) and (value <= 49):\n",
    "        age_group.append('40-49')\n",
    "    elif (value > 49) and (value <= 59):\n",
    "        age_group.append('50-59')\n",
    "    elif (value > 59) and (value <= 69):\n",
    "        age_group.append('60-69')\n",
    "    elif (value > 69) and (value <= 79):\n",
    "        age_group.append('70-79')\n",
    "    elif (value > 79):\n",
    "        age_group.append('80+')    \n",
    "    else:\n",
    "        result.append('Not in age group')"
   ]
  },
  {
   "cell_type": "code",
   "execution_count": 11,
   "id": "01a65ea5",
   "metadata": {},
   "outputs": [],
   "source": [
    "# Create age_group column\n",
    "df['age_group'] = age_group"
   ]
  },
  {
   "cell_type": "code",
   "execution_count": 12,
   "id": "4ee62533",
   "metadata": {},
   "outputs": [
    {
     "data": {
      "text/plain": [
       "18-29    5823190\n",
       "30-39    4851781\n",
       "40-49    4887799\n",
       "50-59    4846544\n",
       "60-69    4766300\n",
       "70-79    4838379\n",
       "80+       979496\n",
       "Name: age_group, dtype: int64"
      ]
     },
     "execution_count": 12,
     "metadata": {},
     "output_type": "execute_result"
    }
   ],
   "source": [
    "# confirm results\n",
    "df['age_group'].value_counts().sort_index()"
   ]
  },
  {
   "cell_type": "markdown",
   "id": "ed08f722",
   "metadata": {},
   "source": [
    "###### Set income brackets & create variable"
   ]
  },
  {
   "cell_type": "code",
   "execution_count": 13,
   "id": "917210e8",
   "metadata": {},
   "outputs": [
    {
     "data": {
      "text/plain": [
       "25903      20\n",
       "25911      28\n",
       "25937      39\n",
       "25941      31\n",
       "25955     392\n",
       "         ... \n",
       "584097    826\n",
       "590790     54\n",
       "591089    176\n",
       "592409    318\n",
       "593901    640\n",
       "Name: income, Length: 96070, dtype: int64"
      ]
     },
     "execution_count": 13,
     "metadata": {},
     "output_type": "execute_result"
    }
   ],
   "source": [
    "# Check customer income ranges\n",
    "df['income'].value_counts().sort_index()"
   ]
  },
  {
   "cell_type": "code",
   "execution_count": 20,
   "id": "25da64ed",
   "metadata": {},
   "outputs": [],
   "source": [
    "# Set income brackets\n",
    "income = []\n",
    "\n",
    "for value in df['income']:\n",
    "    if value <= 29999: \n",
    "        income.append('0-29999')\n",
    "    elif (value > 29999) and (value <= 49999):\n",
    "        income.append('030000-49999')\n",
    "    elif (value > 49999) and (value <= 69999):\n",
    "        income.append('050000-69999')\n",
    "    elif (value > 69999) and (value <= 99999):\n",
    "        income.append('070000-99999')\n",
    "    elif (value > 99999) and (value <= 199999):\n",
    "        income.append('100000-199999')\n",
    "    elif (value > 199999) and (value <= 299999):\n",
    "        income.append('200000-299999')\n",
    "    elif (value > 299999) and (value <= 399999):\n",
    "        income.append('300000-399999')\n",
    "    elif (value > 399999) and (value <= 499999):\n",
    "        income.append('400000-499999')\n",
    "    elif (value >= 500000):\n",
    "        income.append('500000+')\n",
    "    else: \n",
    "        income.append('other')"
   ]
  },
  {
   "cell_type": "code",
   "execution_count": 21,
   "id": "272397af",
   "metadata": {},
   "outputs": [],
   "source": [
    "# Create income_range column\n",
    "df['income_range'] = income"
   ]
  },
  {
   "cell_type": "code",
   "execution_count": 22,
   "id": "b1a03e1b",
   "metadata": {},
   "outputs": [
    {
     "data": {
      "text/plain": [
       "0-29999            194024\n",
       "030000-49999      3172195\n",
       "050000-69999      5162823\n",
       "070000-99999      8244626\n",
       "100000-199999    13965476\n",
       "200000-299999      154266\n",
       "300000-399999       53080\n",
       "400000-499999       27929\n",
       "500000+             19070\n",
       "Name: income_range, dtype: int64"
      ]
     },
     "execution_count": 22,
     "metadata": {},
     "output_type": "execute_result"
    }
   ],
   "source": [
    "# Check results\n",
    "df['income_range'].value_counts().sort_index()"
   ]
  },
  {
   "cell_type": "markdown",
   "id": "adb665e4",
   "metadata": {},
   "source": [
    "###### Create parental status flags"
   ]
  },
  {
   "cell_type": "code",
   "execution_count": 23,
   "id": "fb61f1e9",
   "metadata": {},
   "outputs": [
    {
     "data": {
      "text/plain": [
       "0    7747183\n",
       "1    7726129\n",
       "2    7740539\n",
       "3    7779638\n",
       "Name: dependants, dtype: int64"
      ]
     },
     "execution_count": 23,
     "metadata": {},
     "output_type": "execute_result"
    }
   ],
   "source": [
    "# check dependant numbers\n",
    "df['dependants'].value_counts().sort_index()"
   ]
  },
  {
   "cell_type": "code",
   "execution_count": 25,
   "id": "18448775",
   "metadata": {},
   "outputs": [],
   "source": [
    "# create flag for parent\n",
    "df.loc[(df['dependants'] >= 1), 'parental_status'] = 'Parent'"
   ]
  },
  {
   "cell_type": "code",
   "execution_count": 26,
   "id": "e713935d",
   "metadata": {},
   "outputs": [],
   "source": [
    "# create flag for non-parent\n",
    "df.loc[(df['dependants'] == 0), 'parental_status'] = 'Non-parent'"
   ]
  },
  {
   "cell_type": "code",
   "execution_count": 27,
   "id": "691dc9bb",
   "metadata": {},
   "outputs": [
    {
     "data": {
      "text/plain": [
       "Parent        23246306\n",
       "Non-parent     7747183\n",
       "Name: parental_status, dtype: int64"
      ]
     },
     "execution_count": 27,
     "metadata": {},
     "output_type": "execute_result"
    }
   ],
   "source": [
    "# Check results\n",
    "df['parental_status'].value_counts(dropna = False)"
   ]
  },
  {
   "cell_type": "markdown",
   "id": "a1a55a21",
   "metadata": {},
   "source": [
    "###### Create day of week variable"
   ]
  },
  {
   "cell_type": "code",
   "execution_count": 28,
   "id": "2abe76ca",
   "metadata": {},
   "outputs": [
    {
     "data": {
      "text/plain": [
       "0    5913988\n",
       "1    5417154\n",
       "2    4028561\n",
       "3    3673006\n",
       "4    3628326\n",
       "5    4037411\n",
       "6    4295043\n",
       "Name: orders_day_of_week, dtype: int64"
      ]
     },
     "execution_count": 28,
     "metadata": {},
     "output_type": "execute_result"
    }
   ],
   "source": [
    "# Check day of week counts\n",
    "df['orders_day_of_week'].value_counts().sort_index()"
   ]
  },
  {
   "cell_type": "markdown",
   "id": "af47964e",
   "metadata": {},
   "source": [
    "Order counts indicate weekend days as 0 & 1"
   ]
  },
  {
   "cell_type": "code",
   "execution_count": 29,
   "id": "4def3d63",
   "metadata": {},
   "outputs": [],
   "source": [
    "# Create weekday column\n",
    "df.loc[df['orders_day_of_week'] == 0, 'weekday'] = 'Saturday'\n",
    "df.loc[df['orders_day_of_week'] == 1, 'weekday'] = 'Sunday'\n",
    "df.loc[df['orders_day_of_week'] == 2, 'weekday'] = 'Monday'\n",
    "df.loc[df['orders_day_of_week'] == 3, 'weekday'] = 'Tuesday'\n",
    "df.loc[df['orders_day_of_week'] == 4, 'weekday'] = 'Wednesday'\n",
    "df.loc[df['orders_day_of_week'] == 5, 'weekday'] = 'Thursday'\n",
    "df.loc[df['orders_day_of_week'] == 6, 'weekday'] = 'Friday'"
   ]
  },
  {
   "cell_type": "code",
   "execution_count": 30,
   "id": "e1e06450",
   "metadata": {},
   "outputs": [
    {
     "data": {
      "text/plain": [
       "Friday       4295043\n",
       "Monday       4028561\n",
       "Saturday     5913988\n",
       "Sunday       5417154\n",
       "Thursday     4037411\n",
       "Tuesday      3673006\n",
       "Wednesday    3628326\n",
       "Name: weekday, dtype: int64"
      ]
     },
     "execution_count": 30,
     "metadata": {},
     "output_type": "execute_result"
    }
   ],
   "source": [
    "# Check order totals for weekdays \n",
    "df['weekday'].value_counts().sort_index()"
   ]
  },
  {
   "cell_type": "markdown",
   "id": "4dafd114",
   "metadata": {},
   "source": [
    "###### Create variable for day section"
   ]
  },
  {
   "cell_type": "code",
   "execution_count": 31,
   "id": "1674942a",
   "metadata": {},
   "outputs": [
    {
     "data": {
      "text/plain": [
       "0      208217\n",
       "1      109706\n",
       "2       65744\n",
       "3       48835\n",
       "4       50803\n",
       "5       84515\n",
       "6      281308\n",
       "7      864083\n",
       "8     1660909\n",
       "9     2366074\n",
       "10    2652367\n",
       "11    2617288\n",
       "12    2498043\n",
       "13    2541577\n",
       "14    2570258\n",
       "15    2538299\n",
       "16    2415879\n",
       "17    1984111\n",
       "18    1552568\n",
       "19    1194931\n",
       "20     931757\n",
       "21     763821\n",
       "22     607557\n",
       "23     384839\n",
       "Name: order_hour_of_day, dtype: int64"
      ]
     },
     "execution_count": 31,
     "metadata": {},
     "output_type": "execute_result"
    }
   ],
   "source": [
    "# Check order count by hour\n",
    "df['order_hour_of_day'].value_counts().sort_index()"
   ]
  },
  {
   "cell_type": "code",
   "execution_count": 33,
   "id": "3407155f",
   "metadata": {},
   "outputs": [],
   "source": [
    "# Set day time portions\n",
    "result = []\n",
    "\n",
    "for value in df['order_hour_of_day']:\n",
    "    if (value > 4) and (value <= 9):\n",
    "        result.append('Morning')\n",
    "    elif (value > 9) and (value <= 14):\n",
    "        result.append('Mid-day')\n",
    "    elif (value > 14) and (value <= 19):\n",
    "        result.append('Afternoon')\n",
    "    elif (value > 19) and (value <= 23):\n",
    "        result.append('Evening')\n",
    "    else: \n",
    "        result.append('Late-nite')"
   ]
  },
  {
   "cell_type": "code",
   "execution_count": 34,
   "id": "e7badbea",
   "metadata": {},
   "outputs": [],
   "source": [
    "# Create day_section column\n",
    "df['day_section'] = result"
   ]
  },
  {
   "cell_type": "code",
   "execution_count": 35,
   "id": "d58d7965",
   "metadata": {},
   "outputs": [
    {
     "data": {
      "text/plain": [
       "Mid-day      12879533\n",
       "Afternoon     9685788\n",
       "Morning       5256889\n",
       "Evening       2687974\n",
       "Late-nite      483305\n",
       "Name: day_section, dtype: int64"
      ]
     },
     "execution_count": 35,
     "metadata": {},
     "output_type": "execute_result"
    }
   ],
   "source": [
    "# check results\n",
    "df['day_section'].value_counts()"
   ]
  },
  {
   "cell_type": "code",
   "execution_count": 36,
   "id": "89e28973",
   "metadata": {},
   "outputs": [],
   "source": [
    "# Export data to pkl\n",
    "df.to_pickle(os.path.join(path, '02 Data Sets','Prepared Data', 'df_2.pkl'))"
   ]
  },
  {
   "cell_type": "code",
   "execution_count": null,
   "id": "f706814b",
   "metadata": {},
   "outputs": [],
   "source": []
  }
 ],
 "metadata": {
  "kernelspec": {
   "display_name": "Python 3 (ipykernel)",
   "language": "python",
   "name": "python3"
  },
  "language_info": {
   "codemirror_mode": {
    "name": "ipython",
    "version": 3
   },
   "file_extension": ".py",
   "mimetype": "text/x-python",
   "name": "python",
   "nbconvert_exporter": "python",
   "pygments_lexer": "ipython3",
   "version": "3.9.7"
  }
 },
 "nbformat": 4,
 "nbformat_minor": 5
}
