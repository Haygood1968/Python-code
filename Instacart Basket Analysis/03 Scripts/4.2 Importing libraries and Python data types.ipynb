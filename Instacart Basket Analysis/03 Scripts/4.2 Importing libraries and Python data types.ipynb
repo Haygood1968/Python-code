{
 "cells": [
  {
   "cell_type": "markdown",
   "id": "625cf100",
   "metadata": {},
   "source": [
    "# 01. Importing libraries"
   ]
  },
  {
   "cell_type": "code",
   "execution_count": 5,
   "id": "e290911e",
   "metadata": {},
   "outputs": [],
   "source": [
    "# Import libraries\n",
    "import pandas as pd\n",
    "import numpy as np\n",
    "import os"
   ]
  },
  {
   "cell_type": "code",
   "execution_count": 6,
   "id": "a3489479",
   "metadata": {},
   "outputs": [],
   "source": [
    "x = 2"
   ]
  },
  {
   "cell_type": "code",
   "execution_count": 7,
   "id": "effcb393",
   "metadata": {},
   "outputs": [
    {
     "name": "stdout",
     "output_type": "stream",
     "text": [
      "2\n"
     ]
    }
   ],
   "source": [
    "print(x)"
   ]
  },
  {
   "cell_type": "code",
   "execution_count": 8,
   "id": "a421e51c",
   "metadata": {},
   "outputs": [
    {
     "data": {
      "text/plain": [
       "2"
      ]
     },
     "execution_count": 8,
     "metadata": {},
     "output_type": "execute_result"
    }
   ],
   "source": [
    "x"
   ]
  },
  {
   "cell_type": "code",
   "execution_count": 9,
   "id": "17078324",
   "metadata": {},
   "outputs": [
    {
     "data": {
      "text/plain": [
       "int"
      ]
     },
     "execution_count": 9,
     "metadata": {},
     "output_type": "execute_result"
    }
   ],
   "source": [
    "type(x)"
   ]
  },
  {
   "cell_type": "code",
   "execution_count": 10,
   "id": "260ad812",
   "metadata": {},
   "outputs": [],
   "source": [
    "y = 5.678"
   ]
  },
  {
   "cell_type": "code",
   "execution_count": 11,
   "id": "bf1b3169",
   "metadata": {},
   "outputs": [
    {
     "data": {
      "text/plain": [
       "float"
      ]
     },
     "execution_count": 11,
     "metadata": {},
     "output_type": "execute_result"
    }
   ],
   "source": [
    "type(y)"
   ]
  },
  {
   "cell_type": "code",
   "execution_count": 12,
   "id": "7df205fb",
   "metadata": {},
   "outputs": [],
   "source": [
    "z = 'Brazil'"
   ]
  },
  {
   "cell_type": "code",
   "execution_count": 13,
   "id": "473dc67a",
   "metadata": {},
   "outputs": [
    {
     "data": {
      "text/plain": [
       "str"
      ]
     },
     "execution_count": 13,
     "metadata": {},
     "output_type": "execute_result"
    }
   ],
   "source": [
    "type(z)"
   ]
  },
  {
   "cell_type": "code",
   "execution_count": 14,
   "id": "6f3ba8b5",
   "metadata": {},
   "outputs": [
    {
     "ename": "NameError",
     "evalue": "name 'Mania' is not defined",
     "output_type": "error",
     "traceback": [
      "\u001b[1;31m---------------------------------------------------------------------------\u001b[0m",
      "\u001b[1;31mNameError\u001b[0m                                 Traceback (most recent call last)",
      "\u001b[1;32m~\\AppData\\Local\\Temp/ipykernel_17088/3854553522.py\u001b[0m in \u001b[0;36m<module>\u001b[1;34m\u001b[0m\n\u001b[1;32m----> 1\u001b[1;33m \u001b[0mtype\u001b[0m\u001b[1;33m(\u001b[0m\u001b[0mMania\u001b[0m\u001b[1;33m)\u001b[0m\u001b[1;33m\u001b[0m\u001b[1;33m\u001b[0m\u001b[0m\n\u001b[0m",
      "\u001b[1;31mNameError\u001b[0m: name 'Mania' is not defined"
     ]
    }
   ],
   "source": [
    "type(Mania)"
   ]
  },
  {
   "cell_type": "code",
   "execution_count": 15,
   "id": "478de2e9",
   "metadata": {},
   "outputs": [
    {
     "data": {
      "text/plain": [
       "str"
      ]
     },
     "execution_count": 15,
     "metadata": {},
     "output_type": "execute_result"
    }
   ],
   "source": [
    "type('Mania')"
   ]
  },
  {
   "cell_type": "code",
   "execution_count": 16,
   "id": "d443be0d",
   "metadata": {},
   "outputs": [
    {
     "data": {
      "text/plain": [
       "bool"
      ]
     },
     "execution_count": 16,
     "metadata": {},
     "output_type": "execute_result"
    }
   ],
   "source": [
    "type(True)"
   ]
  },
  {
   "cell_type": "code",
   "execution_count": 17,
   "id": "662ac76b",
   "metadata": {},
   "outputs": [
    {
     "data": {
      "text/plain": [
       "bool"
      ]
     },
     "execution_count": 17,
     "metadata": {},
     "output_type": "execute_result"
    }
   ],
   "source": [
    "type(False)"
   ]
  },
  {
   "cell_type": "code",
   "execution_count": 18,
   "id": "3640571f",
   "metadata": {},
   "outputs": [
    {
     "data": {
      "text/plain": [
       "6"
      ]
     },
     "execution_count": 18,
     "metadata": {},
     "output_type": "execute_result"
    }
   ],
   "source": [
    "x + 4"
   ]
  },
  {
   "cell_type": "code",
   "execution_count": 19,
   "id": "c5380675",
   "metadata": {},
   "outputs": [
    {
     "data": {
      "text/plain": [
       "7.678"
      ]
     },
     "execution_count": 19,
     "metadata": {},
     "output_type": "execute_result"
    }
   ],
   "source": [
    "x + y"
   ]
  },
  {
   "cell_type": "code",
   "execution_count": 20,
   "id": "9e9a5da7",
   "metadata": {},
   "outputs": [],
   "source": [
    " x = x + 4"
   ]
  },
  {
   "cell_type": "code",
   "execution_count": 21,
   "id": "4846d401",
   "metadata": {},
   "outputs": [
    {
     "name": "stdout",
     "output_type": "stream",
     "text": [
      "6\n"
     ]
    }
   ],
   "source": [
    "print(x)"
   ]
  },
  {
   "cell_type": "code",
   "execution_count": 22,
   "id": "78ad44f6",
   "metadata": {},
   "outputs": [],
   "source": [
    "a = 'Hello'\n",
    "b = 'Marley'"
   ]
  },
  {
   "cell_type": "code",
   "execution_count": 23,
   "id": "b8c81289",
   "metadata": {},
   "outputs": [
    {
     "data": {
      "text/plain": [
       "'HelloMarley'"
      ]
     },
     "execution_count": 23,
     "metadata": {},
     "output_type": "execute_result"
    }
   ],
   "source": [
    "a + b"
   ]
  },
  {
   "cell_type": "code",
   "execution_count": 24,
   "id": "0d90f2ac",
   "metadata": {},
   "outputs": [],
   "source": [
    "a = 'Hello '"
   ]
  },
  {
   "cell_type": "code",
   "execution_count": 25,
   "id": "5e7210c1",
   "metadata": {},
   "outputs": [],
   "source": [
    "a = b"
   ]
  },
  {
   "cell_type": "code",
   "execution_count": 26,
   "id": "ec9ec581",
   "metadata": {},
   "outputs": [
    {
     "data": {
      "text/plain": [
       "'MarleyMarley'"
      ]
     },
     "execution_count": 26,
     "metadata": {},
     "output_type": "execute_result"
    }
   ],
   "source": [
    "a + b"
   ]
  },
  {
   "cell_type": "code",
   "execution_count": 27,
   "id": "04d71601",
   "metadata": {},
   "outputs": [],
   "source": [
    "a = 'Hello '"
   ]
  },
  {
   "cell_type": "code",
   "execution_count": 28,
   "id": "40846b90",
   "metadata": {},
   "outputs": [
    {
     "data": {
      "text/plain": [
       "'Hello Marley'"
      ]
     },
     "execution_count": 28,
     "metadata": {},
     "output_type": "execute_result"
    }
   ],
   "source": [
    "a + b"
   ]
  },
  {
   "cell_type": "code",
   "execution_count": 29,
   "id": "1fb239a9",
   "metadata": {},
   "outputs": [
    {
     "data": {
      "text/plain": [
       "'Hello Hello Hello '"
      ]
     },
     "execution_count": 29,
     "metadata": {},
     "output_type": "execute_result"
    }
   ],
   "source": [
    "a * 3"
   ]
  },
  {
   "cell_type": "code",
   "execution_count": 30,
   "id": "3b712248",
   "metadata": {},
   "outputs": [
    {
     "data": {
      "text/plain": [
       "False"
      ]
     },
     "execution_count": 30,
     "metadata": {},
     "output_type": "execute_result"
    }
   ],
   "source": [
    "x == y"
   ]
  },
  {
   "cell_type": "code",
   "execution_count": 31,
   "id": "c410aa9f",
   "metadata": {},
   "outputs": [
    {
     "data": {
      "text/plain": [
       "bool"
      ]
     },
     "execution_count": 31,
     "metadata": {},
     "output_type": "execute_result"
    }
   ],
   "source": [
    "type(x == y)"
   ]
  },
  {
   "cell_type": "code",
   "execution_count": 32,
   "id": "a7cc5efb",
   "metadata": {},
   "outputs": [],
   "source": [
    "# Python Data Types"
   ]
  },
  {
   "cell_type": "code",
   "execution_count": 33,
   "id": "a4ee4bc3",
   "metadata": {},
   "outputs": [],
   "source": [
    "a = 50\n",
    "b = 25\n",
    "c = 150"
   ]
  },
  {
   "cell_type": "code",
   "execution_count": 34,
   "id": "9dc3f8b4",
   "metadata": {},
   "outputs": [
    {
     "data": {
      "text/plain": [
       "100"
      ]
     },
     "execution_count": 34,
     "metadata": {},
     "output_type": "execute_result"
    }
   ],
   "source": [
    "a + a"
   ]
  },
  {
   "cell_type": "code",
   "execution_count": 35,
   "id": "8607d8df",
   "metadata": {},
   "outputs": [],
   "source": [
    "a = b = b"
   ]
  },
  {
   "cell_type": "code",
   "execution_count": 36,
   "id": "167ca004",
   "metadata": {},
   "outputs": [],
   "source": [
    "a = 50\n",
    "b = 25\n",
    "c = 150"
   ]
  },
  {
   "cell_type": "code",
   "execution_count": 37,
   "id": "d39f3ef6",
   "metadata": {},
   "outputs": [
    {
     "data": {
      "text/plain": [
       "100"
      ]
     },
     "execution_count": 37,
     "metadata": {},
     "output_type": "execute_result"
    }
   ],
   "source": [
    "a + a"
   ]
  },
  {
   "cell_type": "code",
   "execution_count": 38,
   "id": "7658151d",
   "metadata": {},
   "outputs": [
    {
     "data": {
      "text/plain": [
       "100"
      ]
     },
     "execution_count": 38,
     "metadata": {},
     "output_type": "execute_result"
    }
   ],
   "source": [
    "a + b + b"
   ]
  },
  {
   "cell_type": "code",
   "execution_count": 39,
   "id": "c984b138",
   "metadata": {},
   "outputs": [
    {
     "data": {
      "text/plain": [
       "100"
      ]
     },
     "execution_count": 39,
     "metadata": {},
     "output_type": "execute_result"
    }
   ],
   "source": [
    "c - a"
   ]
  },
  {
   "cell_type": "code",
   "execution_count": 40,
   "id": "addf2255",
   "metadata": {},
   "outputs": [],
   "source": [
    "d = 2.5\n",
    "e = 1.25"
   ]
  },
  {
   "cell_type": "code",
   "execution_count": 41,
   "id": "5086a134",
   "metadata": {},
   "outputs": [
    {
     "data": {
      "text/plain": [
       "2.0"
      ]
     },
     "execution_count": 41,
     "metadata": {},
     "output_type": "execute_result"
    }
   ],
   "source": [
    "d / e"
   ]
  },
  {
   "cell_type": "code",
   "execution_count": 49,
   "id": "a6c20d2c",
   "metadata": {},
   "outputs": [],
   "source": [
    "f = 'F'\n",
    "g = 'uz'\n",
    "h = 'zy'"
   ]
  },
  {
   "cell_type": "code",
   "execution_count": 51,
   "id": "45a003fc",
   "metadata": {},
   "outputs": [
    {
     "data": {
      "text/plain": [
       "'Fuzzy'"
      ]
     },
     "execution_count": 51,
     "metadata": {},
     "output_type": "execute_result"
    }
   ],
   "source": [
    "f + g + h"
   ]
  },
  {
   "cell_type": "code",
   "execution_count": 52,
   "id": "d977acc9",
   "metadata": {},
   "outputs": [],
   "source": [
    "f = 'smothered '\n",
    "g = 'bolgna '\n",
    "h = 'sandwich '"
   ]
  },
  {
   "cell_type": "code",
   "execution_count": 44,
   "id": "2758c3ad",
   "metadata": {},
   "outputs": [
    {
     "data": {
      "text/plain": [
       "'smothered bolgna sandwich'"
      ]
     },
     "execution_count": 44,
     "metadata": {},
     "output_type": "execute_result"
    }
   ],
   "source": [
    "f + g + h"
   ]
  },
  {
   "cell_type": "code",
   "execution_count": 46,
   "id": "86c0c1ac",
   "metadata": {},
   "outputs": [],
   "source": [
    "a = 'Order my '\n",
    "b = 'in mustard.'\n",
    "c = 'I don`t want it '\n",
    "d = 'in mayonaise!'"
   ]
  },
  {
   "cell_type": "code",
   "execution_count": 47,
   "id": "68938c92",
   "metadata": {},
   "outputs": [
    {
     "data": {
      "text/plain": [
       "'Order my sandwich smothered in mustard.'"
      ]
     },
     "execution_count": 47,
     "metadata": {},
     "output_type": "execute_result"
    }
   ],
   "source": [
    "a + h + f + b"
   ]
  },
  {
   "cell_type": "code",
   "execution_count": 48,
   "id": "eb21ae38",
   "metadata": {},
   "outputs": [
    {
     "data": {
      "text/plain": [
       "'I don`t want it smothered in mayonaise!'"
      ]
     },
     "execution_count": 48,
     "metadata": {},
     "output_type": "execute_result"
    }
   ],
   "source": [
    "c + f + d"
   ]
  },
  {
   "cell_type": "code",
   "execution_count": 53,
   "id": "0fb31924",
   "metadata": {},
   "outputs": [
    {
     "data": {
      "text/plain": [
       "'smothered smothered smothered smothered smothered smothered smothered smothered smothered smothered smothered smothered smothered smothered smothered smothered smothered smothered smothered smothered smothered smothered smothered smothered smothered smothered smothered smothered smothered smothered smothered smothered smothered smothered smothered smothered smothered smothered smothered smothered smothered smothered smothered smothered smothered smothered smothered smothered smothered smothered smothered smothered smothered smothered smothered smothered smothered smothered smothered smothered smothered smothered smothered smothered smothered smothered smothered smothered smothered smothered smothered smothered smothered smothered smothered smothered smothered smothered smothered smothered smothered smothered smothered smothered smothered smothered smothered smothered smothered smothered smothered smothered smothered smothered smothered smothered smothered smothered smothered smothered '"
      ]
     },
     "execution_count": 53,
     "metadata": {},
     "output_type": "execute_result"
    }
   ],
   "source": [
    "f * 100"
   ]
  }
 ],
 "metadata": {
  "kernelspec": {
   "display_name": "Python 3 (ipykernel)",
   "language": "python",
   "name": "python3"
  },
  "language_info": {
   "codemirror_mode": {
    "name": "ipython",
    "version": 3
   },
   "file_extension": ".py",
   "mimetype": "text/x-python",
   "name": "python",
   "nbconvert_exporter": "python",
   "pygments_lexer": "ipython3",
   "version": "3.9.7"
  }
 },
 "nbformat": 4,
 "nbformat_minor": 5
}
