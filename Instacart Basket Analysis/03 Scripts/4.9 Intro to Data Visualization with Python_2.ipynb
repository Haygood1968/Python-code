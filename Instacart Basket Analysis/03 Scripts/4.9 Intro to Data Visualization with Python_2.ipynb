{
 "cells": [
  {
   "cell_type": "markdown",
   "id": "643e79a9",
   "metadata": {},
   "source": [
    "### Task 4.9 - Part 2"
   ]
  },
  {
   "cell_type": "code",
   "execution_count": 1,
   "id": "a72a30e4",
   "metadata": {},
   "outputs": [],
   "source": [
    "# Import libraries\n",
    "import pandas as pd\n",
    "import numpy as np\n",
    "import os\n",
    "import matplotlib.pyplot as plt\n",
    "import seaborn as sns\n",
    "import scipy"
   ]
  },
  {
   "cell_type": "code",
   "execution_count": 2,
   "id": "541d9e04",
   "metadata": {},
   "outputs": [],
   "source": [
    "path = r'C:\\Users\\Jay\\Documents\\Instacart Basket Analysis'"
   ]
  },
  {
   "cell_type": "code",
   "execution_count": 3,
   "id": "e66431eb",
   "metadata": {},
   "outputs": [],
   "source": [
    "# import prepared data\n",
    "df = pd.read_pickle(os.path.join(path, '02 Data Sets', 'Prepared Data', 'ords_prods_cust.pkl'))"
   ]
  },
  {
   "cell_type": "code",
   "execution_count": 4,
   "id": "f9466ff1",
   "metadata": {},
   "outputs": [
    {
     "data": {
      "text/plain": [
       "(32435059, 34)"
      ]
     },
     "execution_count": 4,
     "metadata": {},
     "output_type": "execute_result"
    }
   ],
   "source": [
    "df.shape"
   ]
  },
  {
   "cell_type": "code",
   "execution_count": 5,
   "id": "40cb2549",
   "metadata": {},
   "outputs": [
    {
     "data": {
      "text/html": [
       "<div>\n",
       "<style scoped>\n",
       "    .dataframe tbody tr th:only-of-type {\n",
       "        vertical-align: middle;\n",
       "    }\n",
       "\n",
       "    .dataframe tbody tr th {\n",
       "        vertical-align: top;\n",
       "    }\n",
       "\n",
       "    .dataframe thead th {\n",
       "        text-align: right;\n",
       "    }\n",
       "</style>\n",
       "<table border=\"1\" class=\"dataframe\">\n",
       "  <thead>\n",
       "    <tr style=\"text-align: right;\">\n",
       "      <th></th>\n",
       "      <th>order_id</th>\n",
       "      <th>user_id</th>\n",
       "      <th>eval_set</th>\n",
       "      <th>order_number</th>\n",
       "      <th>orders_day_of_week</th>\n",
       "      <th>order_hour_of_day</th>\n",
       "      <th>days_since_prior_order</th>\n",
       "      <th>new_customer</th>\n",
       "      <th>product_id</th>\n",
       "      <th>add_to_cart_order</th>\n",
       "      <th>...</th>\n",
       "      <th>frequency</th>\n",
       "      <th>frequency_flag</th>\n",
       "      <th>last_name</th>\n",
       "      <th>gender</th>\n",
       "      <th>state</th>\n",
       "      <th>age</th>\n",
       "      <th>date_joined</th>\n",
       "      <th>dependants</th>\n",
       "      <th>family_status</th>\n",
       "      <th>income</th>\n",
       "    </tr>\n",
       "  </thead>\n",
       "  <tbody>\n",
       "    <tr>\n",
       "      <th>0</th>\n",
       "      <td>2539329</td>\n",
       "      <td>1</td>\n",
       "      <td>prior</td>\n",
       "      <td>1</td>\n",
       "      <td>2</td>\n",
       "      <td>8</td>\n",
       "      <td>NaN</td>\n",
       "      <td>True</td>\n",
       "      <td>196</td>\n",
       "      <td>1</td>\n",
       "      <td>...</td>\n",
       "      <td>20.5</td>\n",
       "      <td>Non-frequent customer</td>\n",
       "      <td>Nguyen</td>\n",
       "      <td>Female</td>\n",
       "      <td>Alabama</td>\n",
       "      <td>31</td>\n",
       "      <td>2/17/2019</td>\n",
       "      <td>3</td>\n",
       "      <td>married</td>\n",
       "      <td>40423</td>\n",
       "    </tr>\n",
       "    <tr>\n",
       "      <th>1</th>\n",
       "      <td>2539329</td>\n",
       "      <td>1</td>\n",
       "      <td>prior</td>\n",
       "      <td>1</td>\n",
       "      <td>2</td>\n",
       "      <td>8</td>\n",
       "      <td>NaN</td>\n",
       "      <td>True</td>\n",
       "      <td>14084</td>\n",
       "      <td>2</td>\n",
       "      <td>...</td>\n",
       "      <td>20.5</td>\n",
       "      <td>Non-frequent customer</td>\n",
       "      <td>Nguyen</td>\n",
       "      <td>Female</td>\n",
       "      <td>Alabama</td>\n",
       "      <td>31</td>\n",
       "      <td>2/17/2019</td>\n",
       "      <td>3</td>\n",
       "      <td>married</td>\n",
       "      <td>40423</td>\n",
       "    </tr>\n",
       "    <tr>\n",
       "      <th>2</th>\n",
       "      <td>2539329</td>\n",
       "      <td>1</td>\n",
       "      <td>prior</td>\n",
       "      <td>1</td>\n",
       "      <td>2</td>\n",
       "      <td>8</td>\n",
       "      <td>NaN</td>\n",
       "      <td>True</td>\n",
       "      <td>12427</td>\n",
       "      <td>3</td>\n",
       "      <td>...</td>\n",
       "      <td>20.5</td>\n",
       "      <td>Non-frequent customer</td>\n",
       "      <td>Nguyen</td>\n",
       "      <td>Female</td>\n",
       "      <td>Alabama</td>\n",
       "      <td>31</td>\n",
       "      <td>2/17/2019</td>\n",
       "      <td>3</td>\n",
       "      <td>married</td>\n",
       "      <td>40423</td>\n",
       "    </tr>\n",
       "    <tr>\n",
       "      <th>3</th>\n",
       "      <td>2539329</td>\n",
       "      <td>1</td>\n",
       "      <td>prior</td>\n",
       "      <td>1</td>\n",
       "      <td>2</td>\n",
       "      <td>8</td>\n",
       "      <td>NaN</td>\n",
       "      <td>True</td>\n",
       "      <td>26088</td>\n",
       "      <td>4</td>\n",
       "      <td>...</td>\n",
       "      <td>20.5</td>\n",
       "      <td>Non-frequent customer</td>\n",
       "      <td>Nguyen</td>\n",
       "      <td>Female</td>\n",
       "      <td>Alabama</td>\n",
       "      <td>31</td>\n",
       "      <td>2/17/2019</td>\n",
       "      <td>3</td>\n",
       "      <td>married</td>\n",
       "      <td>40423</td>\n",
       "    </tr>\n",
       "    <tr>\n",
       "      <th>4</th>\n",
       "      <td>2539329</td>\n",
       "      <td>1</td>\n",
       "      <td>prior</td>\n",
       "      <td>1</td>\n",
       "      <td>2</td>\n",
       "      <td>8</td>\n",
       "      <td>NaN</td>\n",
       "      <td>True</td>\n",
       "      <td>26405</td>\n",
       "      <td>5</td>\n",
       "      <td>...</td>\n",
       "      <td>20.5</td>\n",
       "      <td>Non-frequent customer</td>\n",
       "      <td>Nguyen</td>\n",
       "      <td>Female</td>\n",
       "      <td>Alabama</td>\n",
       "      <td>31</td>\n",
       "      <td>2/17/2019</td>\n",
       "      <td>3</td>\n",
       "      <td>married</td>\n",
       "      <td>40423</td>\n",
       "    </tr>\n",
       "  </tbody>\n",
       "</table>\n",
       "<p>5 rows × 34 columns</p>\n",
       "</div>"
      ],
      "text/plain": [
       "   order_id  user_id eval_set  order_number  orders_day_of_week  \\\n",
       "0   2539329        1    prior             1                   2   \n",
       "1   2539329        1    prior             1                   2   \n",
       "2   2539329        1    prior             1                   2   \n",
       "3   2539329        1    prior             1                   2   \n",
       "4   2539329        1    prior             1                   2   \n",
       "\n",
       "   order_hour_of_day  days_since_prior_order  new_customer  product_id  \\\n",
       "0                  8                     NaN          True         196   \n",
       "1                  8                     NaN          True       14084   \n",
       "2                  8                     NaN          True       12427   \n",
       "3                  8                     NaN          True       26088   \n",
       "4                  8                     NaN          True       26405   \n",
       "\n",
       "   add_to_cart_order  ...  frequency         frequency_flag  last_name  \\\n",
       "0                  1  ...       20.5  Non-frequent customer     Nguyen   \n",
       "1                  2  ...       20.5  Non-frequent customer     Nguyen   \n",
       "2                  3  ...       20.5  Non-frequent customer     Nguyen   \n",
       "3                  4  ...       20.5  Non-frequent customer     Nguyen   \n",
       "4                  5  ...       20.5  Non-frequent customer     Nguyen   \n",
       "\n",
       "   gender    state age date_joined dependants family_status income  \n",
       "0  Female  Alabama  31   2/17/2019          3       married  40423  \n",
       "1  Female  Alabama  31   2/17/2019          3       married  40423  \n",
       "2  Female  Alabama  31   2/17/2019          3       married  40423  \n",
       "3  Female  Alabama  31   2/17/2019          3       married  40423  \n",
       "4  Female  Alabama  31   2/17/2019          3       married  40423  \n",
       "\n",
       "[5 rows x 34 columns]"
      ]
     },
     "execution_count": 5,
     "metadata": {},
     "output_type": "execute_result"
    }
   ],
   "source": [
    "df.head()"
   ]
  },
  {
   "cell_type": "markdown",
   "id": "182febd7",
   "metadata": {},
   "source": [
    "#### Bar Charts"
   ]
  },
  {
   "cell_type": "code",
   "execution_count": 6,
   "id": "f716c8e4",
   "metadata": {},
   "outputs": [
    {
     "data": {
      "text/plain": [
       "<AxesSubplot:>"
      ]
     },
     "execution_count": 6,
     "metadata": {},
     "output_type": "execute_result"
    },
    {
     "data": {
      "image/png": "[encoded data removed]",
      "text/plain": [
       "<Figure size 432x288 with 1 Axes>"
      ]
     },
     "metadata": {
      "needs_background": "light"
     },
     "output_type": "display_data"
    }
   ],
   "source": [
    "df['orders_day_of_week'].value_counts().plot.bar()"
   ]
  },
  {
   "cell_type": "code",
   "execution_count": 7,
   "id": "5bcf191a",
   "metadata": {},
   "outputs": [
    {
     "data": {
      "text/plain": [
       "<AxesSubplot:>"
      ]
     },
     "execution_count": 7,
     "metadata": {},
     "output_type": "execute_result"
    },
    {
     "data": {
      "image/png": "[encoded data removed]",
      "text/plain": [
       "<Figure size 432x288 with 1 Axes>"
      ]
     },
     "metadata": {
      "needs_background": "light"
     },
     "output_type": "display_data"
    }
   ],
   "source": [
    "# sort by index order\n",
    "df['orders_day_of_week'].value_counts().sort_index().plot.bar()"
   ]
  },
  {
   "cell_type": "code",
   "execution_count": 36,
   "id": "020279a9",
   "metadata": {},
   "outputs": [
    {
     "data": {
      "image/png": "[encoded data removed]",
      "text/plain": [
       "<Figure size 432x288 with 1 Axes>"
      ]
     },
     "metadata": {
      "needs_background": "light"
     },
     "output_type": "display_data"
    }
   ],
   "source": [
    "bar = df['orders_day_of_week'].value_counts().sort_index().plot.bar()"
   ]
  },
  {
   "cell_type": "code",
   "execution_count": 8,
   "id": "d69dfd54",
   "metadata": {},
   "outputs": [
    {
     "data": {
      "text/plain": [
       "0    6209808\n",
       "1    5665951\n",
       "2    4217868\n",
       "3    3844175\n",
       "4    3787263\n",
       "5    4209603\n",
       "6    4500391\n",
       "Name: orders_day_of_week, dtype: int64"
      ]
     },
     "execution_count": 8,
     "metadata": {},
     "output_type": "execute_result"
    }
   ],
   "source": [
    "df['orders_day_of_week'].value_counts(dropna = False).sort_index()"
   ]
  },
  {
   "cell_type": "markdown",
   "id": "deaef5b6",
   "metadata": {},
   "source": [
    "#### Histograms"
   ]
  },
  {
   "cell_type": "code",
   "execution_count": 9,
   "id": "7b8e3d52",
   "metadata": {},
   "outputs": [
    {
     "data": {
      "text/plain": [
       "<AxesSubplot:ylabel='Frequency'>"
      ]
     },
     "execution_count": 9,
     "metadata": {},
     "output_type": "execute_result"
    },
    {
     "data": {
      "image/png": "[encoded data removed]",
      "text/plain": [
       "<Figure size 432x288 with 1 Axes>"
      ]
     },
     "metadata": {
      "needs_background": "light"
     },
     "output_type": "display_data"
    }
   ],
   "source": [
    "df['prices'].plot.hist(bins = 25)"
   ]
  },
  {
   "cell_type": "code",
   "execution_count": 10,
   "id": "3b69fb7e",
   "metadata": {},
   "outputs": [
    {
     "data": {
      "text/plain": [
       "count    3.240486e+07\n",
       "mean     1.198023e+01\n",
       "std      4.956554e+02\n",
       "min      1.000000e+00\n",
       "25%      4.200000e+00\n",
       "50%      7.400000e+00\n",
       "75%      1.130000e+01\n",
       "max      9.999900e+04\n",
       "Name: prices, dtype: float64"
      ]
     },
     "execution_count": 10,
     "metadata": {},
     "output_type": "execute_result"
    }
   ],
   "source": [
    "df['prices'].describe()"
   ]
  },
  {
   "cell_type": "code",
   "execution_count": 11,
   "id": "190b2770",
   "metadata": {},
   "outputs": [
    {
     "data": {
      "text/plain": [
       "11.980225638676366"
      ]
     },
     "execution_count": 11,
     "metadata": {},
     "output_type": "execute_result"
    }
   ],
   "source": [
    "df['prices'].mean()"
   ]
  },
  {
   "cell_type": "code",
   "execution_count": 12,
   "id": "b9f6badd",
   "metadata": {},
   "outputs": [
    {
     "data": {
      "text/plain": [
       "7.4"
      ]
     },
     "execution_count": 12,
     "metadata": {},
     "output_type": "execute_result"
    }
   ],
   "source": [
    "df['prices'].median()"
   ]
  },
  {
   "cell_type": "code",
   "execution_count": 13,
   "id": "45a55108",
   "metadata": {},
   "outputs": [
    {
     "data": {
      "text/plain": [
       "99999.0"
      ]
     },
     "execution_count": 13,
     "metadata": {},
     "output_type": "execute_result"
    }
   ],
   "source": [
    "df['prices'].max()"
   ]
  },
  {
   "cell_type": "markdown",
   "id": "d2c07984",
   "metadata": {},
   "source": [
    "#### Scatterplots"
   ]
  },
  {
   "cell_type": "code",
   "execution_count": 14,
   "id": "c7f18fd0",
   "metadata": {},
   "outputs": [
    {
     "data": {
      "text/plain": [
       "<AxesSubplot:xlabel='prices', ylabel='prices'>"
      ]
     },
     "execution_count": 14,
     "metadata": {},
     "output_type": "execute_result"
    },
    {
     "data": {
      "image/png": "[encoded data removed]",
      "text/plain": [
       "<Figure size 432x288 with 1 Axes>"
      ]
     },
     "metadata": {
      "needs_background": "light"
     },
     "output_type": "display_data"
    }
   ],
   "source": [
    "sns.scatterplot(x = 'prices', y = 'prices', data = df)"
   ]
  },
  {
   "cell_type": "code",
   "execution_count": 15,
   "id": "13c39c30",
   "metadata": {},
   "outputs": [
    {
     "data": {
      "text/html": [
       "<div>\n",
       "<style scoped>\n",
       "    .dataframe tbody tr th:only-of-type {\n",
       "        vertical-align: middle;\n",
       "    }\n",
       "\n",
       "    .dataframe tbody tr th {\n",
       "        vertical-align: top;\n",
       "    }\n",
       "\n",
       "    .dataframe thead th {\n",
       "        text-align: right;\n",
       "    }\n",
       "</style>\n",
       "<table border=\"1\" class=\"dataframe\">\n",
       "  <thead>\n",
       "    <tr style=\"text-align: right;\">\n",
       "      <th></th>\n",
       "      <th>order_id</th>\n",
       "      <th>user_id</th>\n",
       "      <th>eval_set</th>\n",
       "      <th>order_number</th>\n",
       "      <th>orders_day_of_week</th>\n",
       "      <th>order_hour_of_day</th>\n",
       "      <th>days_since_prior_order</th>\n",
       "      <th>new_customer</th>\n",
       "      <th>product_id</th>\n",
       "      <th>add_to_cart_order</th>\n",
       "      <th>...</th>\n",
       "      <th>frequency</th>\n",
       "      <th>frequency_flag</th>\n",
       "      <th>last_name</th>\n",
       "      <th>gender</th>\n",
       "      <th>state</th>\n",
       "      <th>age</th>\n",
       "      <th>date_joined</th>\n",
       "      <th>dependants</th>\n",
       "      <th>family_status</th>\n",
       "      <th>income</th>\n",
       "    </tr>\n",
       "  </thead>\n",
       "  <tbody>\n",
       "    <tr>\n",
       "      <th>1576</th>\n",
       "      <td>912404</td>\n",
       "      <td>17</td>\n",
       "      <td>prior</td>\n",
       "      <td>12</td>\n",
       "      <td>2</td>\n",
       "      <td>14</td>\n",
       "      <td>5.0</td>\n",
       "      <td>False</td>\n",
       "      <td>21553</td>\n",
       "      <td>5</td>\n",
       "      <td>...</td>\n",
       "      <td>5.0</td>\n",
       "      <td>Frequent customer</td>\n",
       "      <td>Chang</td>\n",
       "      <td>Female</td>\n",
       "      <td>Kansas</td>\n",
       "      <td>39</td>\n",
       "      <td>9/16/2018</td>\n",
       "      <td>3</td>\n",
       "      <td>married</td>\n",
       "      <td>150659</td>\n",
       "    </tr>\n",
       "    <tr>\n",
       "      <th>1638</th>\n",
       "      <td>603376</td>\n",
       "      <td>17</td>\n",
       "      <td>prior</td>\n",
       "      <td>22</td>\n",
       "      <td>6</td>\n",
       "      <td>16</td>\n",
       "      <td>4.0</td>\n",
       "      <td>False</td>\n",
       "      <td>21553</td>\n",
       "      <td>3</td>\n",
       "      <td>...</td>\n",
       "      <td>5.0</td>\n",
       "      <td>Frequent customer</td>\n",
       "      <td>Chang</td>\n",
       "      <td>Female</td>\n",
       "      <td>Kansas</td>\n",
       "      <td>39</td>\n",
       "      <td>9/16/2018</td>\n",
       "      <td>3</td>\n",
       "      <td>married</td>\n",
       "      <td>150659</td>\n",
       "    </tr>\n",
       "    <tr>\n",
       "      <th>16534</th>\n",
       "      <td>3264360</td>\n",
       "      <td>135</td>\n",
       "      <td>prior</td>\n",
       "      <td>2</td>\n",
       "      <td>2</td>\n",
       "      <td>21</td>\n",
       "      <td>13.0</td>\n",
       "      <td>False</td>\n",
       "      <td>21553</td>\n",
       "      <td>6</td>\n",
       "      <td>...</td>\n",
       "      <td>12.0</td>\n",
       "      <td>Regular customer</td>\n",
       "      <td>Chen</td>\n",
       "      <td>Female</td>\n",
       "      <td>Maryland</td>\n",
       "      <td>30</td>\n",
       "      <td>3/19/2017</td>\n",
       "      <td>3</td>\n",
       "      <td>married</td>\n",
       "      <td>120635</td>\n",
       "    </tr>\n",
       "    <tr>\n",
       "      <th>16540</th>\n",
       "      <td>892534</td>\n",
       "      <td>135</td>\n",
       "      <td>prior</td>\n",
       "      <td>3</td>\n",
       "      <td>0</td>\n",
       "      <td>8</td>\n",
       "      <td>12.0</td>\n",
       "      <td>False</td>\n",
       "      <td>21553</td>\n",
       "      <td>3</td>\n",
       "      <td>...</td>\n",
       "      <td>12.0</td>\n",
       "      <td>Regular customer</td>\n",
       "      <td>Chen</td>\n",
       "      <td>Female</td>\n",
       "      <td>Maryland</td>\n",
       "      <td>30</td>\n",
       "      <td>3/19/2017</td>\n",
       "      <td>3</td>\n",
       "      <td>married</td>\n",
       "      <td>120635</td>\n",
       "    </tr>\n",
       "    <tr>\n",
       "      <th>53712</th>\n",
       "      <td>229704</td>\n",
       "      <td>342</td>\n",
       "      <td>prior</td>\n",
       "      <td>8</td>\n",
       "      <td>1</td>\n",
       "      <td>19</td>\n",
       "      <td>30.0</td>\n",
       "      <td>False</td>\n",
       "      <td>21553</td>\n",
       "      <td>9</td>\n",
       "      <td>...</td>\n",
       "      <td>23.0</td>\n",
       "      <td>Non-frequent customer</td>\n",
       "      <td>Bates</td>\n",
       "      <td>Female</td>\n",
       "      <td>Minnesota</td>\n",
       "      <td>56</td>\n",
       "      <td>8/23/2018</td>\n",
       "      <td>2</td>\n",
       "      <td>married</td>\n",
       "      <td>187328</td>\n",
       "    </tr>\n",
       "    <tr>\n",
       "      <th>...</th>\n",
       "      <td>...</td>\n",
       "      <td>...</td>\n",
       "      <td>...</td>\n",
       "      <td>...</td>\n",
       "      <td>...</td>\n",
       "      <td>...</td>\n",
       "      <td>...</td>\n",
       "      <td>...</td>\n",
       "      <td>...</td>\n",
       "      <td>...</td>\n",
       "      <td>...</td>\n",
       "      <td>...</td>\n",
       "      <td>...</td>\n",
       "      <td>...</td>\n",
       "      <td>...</td>\n",
       "      <td>...</td>\n",
       "      <td>...</td>\n",
       "      <td>...</td>\n",
       "      <td>...</td>\n",
       "      <td>...</td>\n",
       "      <td>...</td>\n",
       "    </tr>\n",
       "    <tr>\n",
       "      <th>32350634</th>\n",
       "      <td>3172853</td>\n",
       "      <td>205650</td>\n",
       "      <td>prior</td>\n",
       "      <td>18</td>\n",
       "      <td>1</td>\n",
       "      <td>9</td>\n",
       "      <td>7.0</td>\n",
       "      <td>False</td>\n",
       "      <td>21553</td>\n",
       "      <td>17</td>\n",
       "      <td>...</td>\n",
       "      <td>6.0</td>\n",
       "      <td>Frequent customer</td>\n",
       "      <td>Vang</td>\n",
       "      <td>Male</td>\n",
       "      <td>Kentucky</td>\n",
       "      <td>62</td>\n",
       "      <td>10/2/2017</td>\n",
       "      <td>0</td>\n",
       "      <td>divorced/widowed</td>\n",
       "      <td>302526</td>\n",
       "    </tr>\n",
       "    <tr>\n",
       "      <th>32377867</th>\n",
       "      <td>2504315</td>\n",
       "      <td>205818</td>\n",
       "      <td>prior</td>\n",
       "      <td>3</td>\n",
       "      <td>5</td>\n",
       "      <td>15</td>\n",
       "      <td>3.0</td>\n",
       "      <td>False</td>\n",
       "      <td>21553</td>\n",
       "      <td>13</td>\n",
       "      <td>...</td>\n",
       "      <td>12.5</td>\n",
       "      <td>Regular customer</td>\n",
       "      <td>Hunter</td>\n",
       "      <td>Male</td>\n",
       "      <td>Maryland</td>\n",
       "      <td>60</td>\n",
       "      <td>7/12/2019</td>\n",
       "      <td>1</td>\n",
       "      <td>married</td>\n",
       "      <td>172539</td>\n",
       "    </tr>\n",
       "    <tr>\n",
       "      <th>32377877</th>\n",
       "      <td>1108388</td>\n",
       "      <td>205818</td>\n",
       "      <td>prior</td>\n",
       "      <td>5</td>\n",
       "      <td>4</td>\n",
       "      <td>5</td>\n",
       "      <td>1.0</td>\n",
       "      <td>False</td>\n",
       "      <td>21553</td>\n",
       "      <td>5</td>\n",
       "      <td>...</td>\n",
       "      <td>12.5</td>\n",
       "      <td>Regular customer</td>\n",
       "      <td>Hunter</td>\n",
       "      <td>Male</td>\n",
       "      <td>Maryland</td>\n",
       "      <td>60</td>\n",
       "      <td>7/12/2019</td>\n",
       "      <td>1</td>\n",
       "      <td>married</td>\n",
       "      <td>172539</td>\n",
       "    </tr>\n",
       "    <tr>\n",
       "      <th>32410707</th>\n",
       "      <td>1916142</td>\n",
       "      <td>206049</td>\n",
       "      <td>prior</td>\n",
       "      <td>1</td>\n",
       "      <td>2</td>\n",
       "      <td>17</td>\n",
       "      <td>NaN</td>\n",
       "      <td>True</td>\n",
       "      <td>21553</td>\n",
       "      <td>2</td>\n",
       "      <td>...</td>\n",
       "      <td>7.0</td>\n",
       "      <td>Frequent customer</td>\n",
       "      <td>Leal</td>\n",
       "      <td>Female</td>\n",
       "      <td>District of Columbia</td>\n",
       "      <td>23</td>\n",
       "      <td>4/26/2019</td>\n",
       "      <td>1</td>\n",
       "      <td>married</td>\n",
       "      <td>169022</td>\n",
       "    </tr>\n",
       "    <tr>\n",
       "      <th>32410731</th>\n",
       "      <td>379732</td>\n",
       "      <td>206049</td>\n",
       "      <td>prior</td>\n",
       "      <td>4</td>\n",
       "      <td>1</td>\n",
       "      <td>14</td>\n",
       "      <td>5.0</td>\n",
       "      <td>False</td>\n",
       "      <td>21553</td>\n",
       "      <td>4</td>\n",
       "      <td>...</td>\n",
       "      <td>7.0</td>\n",
       "      <td>Frequent customer</td>\n",
       "      <td>Leal</td>\n",
       "      <td>Female</td>\n",
       "      <td>District of Columbia</td>\n",
       "      <td>23</td>\n",
       "      <td>4/26/2019</td>\n",
       "      <td>1</td>\n",
       "      <td>married</td>\n",
       "      <td>169022</td>\n",
       "    </tr>\n",
       "  </tbody>\n",
       "</table>\n",
       "<p>5127 rows × 34 columns</p>\n",
       "</div>"
      ],
      "text/plain": [
       "          order_id  user_id eval_set  order_number  orders_day_of_week  \\\n",
       "1576        912404       17    prior            12                   2   \n",
       "1638        603376       17    prior            22                   6   \n",
       "16534      3264360      135    prior             2                   2   \n",
       "16540       892534      135    prior             3                   0   \n",
       "53712       229704      342    prior             8                   1   \n",
       "...            ...      ...      ...           ...                 ...   \n",
       "32350634   3172853   205650    prior            18                   1   \n",
       "32377867   2504315   205818    prior             3                   5   \n",
       "32377877   1108388   205818    prior             5                   4   \n",
       "32410707   1916142   206049    prior             1                   2   \n",
       "32410731    379732   206049    prior             4                   1   \n",
       "\n",
       "          order_hour_of_day  days_since_prior_order  new_customer  product_id  \\\n",
       "1576                     14                     5.0         False       21553   \n",
       "1638                     16                     4.0         False       21553   \n",
       "16534                    21                    13.0         False       21553   \n",
       "16540                     8                    12.0         False       21553   \n",
       "53712                    19                    30.0         False       21553   \n",
       "...                     ...                     ...           ...         ...   \n",
       "32350634                  9                     7.0         False       21553   \n",
       "32377867                 15                     3.0         False       21553   \n",
       "32377877                  5                     1.0         False       21553   \n",
       "32410707                 17                     NaN          True       21553   \n",
       "32410731                 14                     5.0         False       21553   \n",
       "\n",
       "          add_to_cart_order  ...  frequency         frequency_flag  last_name  \\\n",
       "1576                      5  ...        5.0      Frequent customer      Chang   \n",
       "1638                      3  ...        5.0      Frequent customer      Chang   \n",
       "16534                     6  ...       12.0       Regular customer       Chen   \n",
       "16540                     3  ...       12.0       Regular customer       Chen   \n",
       "53712                     9  ...       23.0  Non-frequent customer      Bates   \n",
       "...                     ...  ...        ...                    ...        ...   \n",
       "32350634                 17  ...        6.0      Frequent customer       Vang   \n",
       "32377867                 13  ...       12.5       Regular customer     Hunter   \n",
       "32377877                  5  ...       12.5       Regular customer     Hunter   \n",
       "32410707                  2  ...        7.0      Frequent customer       Leal   \n",
       "32410731                  4  ...        7.0      Frequent customer       Leal   \n",
       "\n",
       "          gender                 state age date_joined dependants  \\\n",
       "1576      Female                Kansas  39   9/16/2018          3   \n",
       "1638      Female                Kansas  39   9/16/2018          3   \n",
       "16534     Female              Maryland  30   3/19/2017          3   \n",
       "16540     Female              Maryland  30   3/19/2017          3   \n",
       "53712     Female             Minnesota  56   8/23/2018          2   \n",
       "...          ...                   ...  ..         ...        ...   \n",
       "32350634    Male              Kentucky  62   10/2/2017          0   \n",
       "32377867    Male              Maryland  60   7/12/2019          1   \n",
       "32377877    Male              Maryland  60   7/12/2019          1   \n",
       "32410707  Female  District of Columbia  23   4/26/2019          1   \n",
       "32410731  Female  District of Columbia  23   4/26/2019          1   \n",
       "\n",
       "             family_status  income  \n",
       "1576               married  150659  \n",
       "1638               married  150659  \n",
       "16534              married  120635  \n",
       "16540              married  120635  \n",
       "53712              married  187328  \n",
       "...                    ...     ...  \n",
       "32350634  divorced/widowed  302526  \n",
       "32377867           married  172539  \n",
       "32377877           married  172539  \n",
       "32410707           married  169022  \n",
       "32410731           married  169022  \n",
       "\n",
       "[5127 rows x 34 columns]"
      ]
     },
     "execution_count": 15,
     "metadata": {},
     "output_type": "execute_result"
    }
   ],
   "source": [
    "# outlier price check\n",
    "df.loc[df['prices'] > 100]"
   ]
  },
  {
   "cell_type": "markdown",
   "id": "c5a90341",
   "metadata": {},
   "source": [
    "##### The above output has some columns truncated, which happen to contain the data we're looking for here."
   ]
  },
  {
   "cell_type": "code",
   "execution_count": 16,
   "id": "9a92bed8",
   "metadata": {},
   "outputs": [],
   "source": [
    "# change outliers to NaNs\n",
    "df.loc[df['prices'] >100, 'prices'] = np.nan"
   ]
  },
  {
   "cell_type": "code",
   "execution_count": 17,
   "id": "e4eedd86",
   "metadata": {},
   "outputs": [
    {
     "data": {
      "text/plain": [
       "25.0"
      ]
     },
     "execution_count": 17,
     "metadata": {},
     "output_type": "execute_result"
    }
   ],
   "source": [
    "df['prices'].max()"
   ]
  },
  {
   "cell_type": "code",
   "execution_count": 18,
   "id": "de5a2688",
   "metadata": {},
   "outputs": [
    {
     "data": {
      "text/plain": [
       "<AxesSubplot:ylabel='Frequency'>"
      ]
     },
     "execution_count": 18,
     "metadata": {},
     "output_type": "execute_result"
    },
    {
     "data": {
      "image/png": "[encoded data removed]",
      "text/plain": [
       "<Figure size 432x288 with 1 Axes>"
      ]
     },
     "metadata": {
      "needs_background": "light"
     },
     "output_type": "display_data"
    }
   ],
   "source": [
    "# retry histogram\n",
    "df['prices'].plot.hist(bins = 25)"
   ]
  },
  {
   "cell_type": "code",
   "execution_count": 19,
   "id": "0d2c1dfe",
   "metadata": {},
   "outputs": [
    {
     "data": {
      "text/plain": [
       "<AxesSubplot:ylabel='Frequency'>"
      ]
     },
     "execution_count": 19,
     "metadata": {},
     "output_type": "execute_result"
    },
    {
     "data": {
      "image/png": "[encoded data removed]",
      "text/plain": [
       "<Figure size 432x288 with 1 Axes>"
      ]
     },
     "metadata": {
      "needs_background": "light"
     },
     "output_type": "display_data"
    }
   ],
   "source": [
    "# increase level of granularity\n",
    "df['prices'].plot.hist(bins = 70)"
   ]
  },
  {
   "cell_type": "code",
   "execution_count": 35,
   "id": "e83778ad",
   "metadata": {},
   "outputs": [
    {
     "data": {
      "image/png": "[encoded data removed]",
      "text/plain": [
       "<Figure size 432x288 with 1 Axes>"
      ]
     },
     "metadata": {
      "needs_background": "light"
     },
     "output_type": "display_data"
    }
   ],
   "source": [
    "hist = df['prices'].plot.hist(bins = 70)"
   ]
  },
  {
   "cell_type": "markdown",
   "id": "46f7ab1e",
   "metadata": {},
   "source": [
    "#### Sampling Data"
   ]
  },
  {
   "cell_type": "code",
   "execution_count": 20,
   "id": "dc4b553c",
   "metadata": {},
   "outputs": [],
   "source": [
    "# create 75/25 sample w/list holding true/false values\n",
    "np.random.seed(4)"
   ]
  },
  {
   "cell_type": "code",
   "execution_count": 21,
   "id": "f06d7a44",
   "metadata": {},
   "outputs": [],
   "source": [
    "dev = np.random.rand(len(df)) <= 0.75"
   ]
  },
  {
   "cell_type": "code",
   "execution_count": 22,
   "id": "b96927ea",
   "metadata": {},
   "outputs": [
    {
     "data": {
      "text/plain": [
       "array([False,  True, False, ...,  True,  True,  True])"
      ]
     },
     "execution_count": 22,
     "metadata": {},
     "output_type": "execute_result"
    }
   ],
   "source": [
    "dev"
   ]
  },
  {
   "cell_type": "code",
   "execution_count": 23,
   "id": "43b31b7e",
   "metadata": {},
   "outputs": [
    {
     "data": {
      "text/plain": [
       "array([0.79555729, 0.6652899 , 0.04000166, 0.90958442, 0.0493868 ,\n",
       "       0.6829014 , 0.09612088, 0.92855965, 0.51356997, 0.69561069])"
      ]
     },
     "execution_count": 23,
     "metadata": {},
     "output_type": "execute_result"
    }
   ],
   "source": [
    "np.random.rand(10)"
   ]
  },
  {
   "cell_type": "code",
   "execution_count": 24,
   "id": "fc46c0d1",
   "metadata": {},
   "outputs": [],
   "source": [
    "small = df[~dev]"
   ]
  },
  {
   "cell_type": "code",
   "execution_count": 25,
   "id": "e2d7aa0b",
   "metadata": {},
   "outputs": [],
   "source": [
    "# \"big = df[dev]\" caused multiple crashes and memory errors"
   ]
  },
  {
   "cell_type": "code",
   "execution_count": 26,
   "id": "3c52620a",
   "metadata": {},
   "outputs": [],
   "source": [
    "# reduce sample to only necessary columns\n",
    "df_2 = small[['orders_day_of_week','prices']] "
   ]
  },
  {
   "cell_type": "code",
   "execution_count": 27,
   "id": "6b4410c2",
   "metadata": {},
   "outputs": [
    {
     "data": {
      "image/png": "[encoded data removed]",
      "text/plain": [
       "<Figure size 432x288 with 1 Axes>"
      ]
     },
     "metadata": {
      "needs_background": "light"
     },
     "output_type": "display_data"
    }
   ],
   "source": [
    "# create line chart\n",
    "line = sns.lineplot(data = df_2, x = 'orders_day_of_week', y = 'prices')"
   ]
  },
  {
   "cell_type": "markdown",
   "id": "78dd5a9d",
   "metadata": {},
   "source": [
    "##### Doesn't appear like to exercise example. Are there still outiers in the sample?"
   ]
  },
  {
   "cell_type": "markdown",
   "id": "7d2c9522",
   "metadata": {},
   "source": [
    "#### “order_hour_of_day” Histogram"
   ]
  },
  {
   "cell_type": "code",
   "execution_count": 28,
   "id": "42f315b4",
   "metadata": {},
   "outputs": [
    {
     "data": {
      "image/png": "[encoded data removed]",
      "text/plain": [
       "<Figure size 432x288 with 1 Axes>"
      ]
     },
     "metadata": {
      "needs_background": "light"
     },
     "output_type": "display_data"
    }
   ],
   "source": [
    "hist_ohod = df['order_hour_of_day'].plot.hist(bins = 24)"
   ]
  },
  {
   "cell_type": "markdown",
   "id": "969d4a97",
   "metadata": {},
   "source": [
    "##### The steady peak of daily sales occurs from 10am to 3pm, followed by a steady decline through 11pm into the early morning."
   ]
  },
  {
   "cell_type": "markdown",
   "id": "878d703f",
   "metadata": {},
   "source": [
    "#### \"loyalty_flag\" Bar Chart"
   ]
  },
  {
   "cell_type": "code",
   "execution_count": 29,
   "id": "2d318c73",
   "metadata": {},
   "outputs": [
    {
     "data": {
      "image/png": "[encoded data removed]",
      "text/plain": [
       "<Figure size 432x288 with 1 Axes>"
      ]
     },
     "metadata": {
      "needs_background": "light"
     },
     "output_type": "display_data"
    }
   ],
   "source": [
    "bar_lf = df['loyalty_flag'].value_counts().plot.bar()"
   ]
  },
  {
   "cell_type": "markdown",
   "id": "077b8211",
   "metadata": {},
   "source": [
    "#### \"prices\" Line Chart"
   ]
  },
  {
   "cell_type": "code",
   "execution_count": 30,
   "id": "d086dd43",
   "metadata": {},
   "outputs": [],
   "source": [
    "# reduce sample to only necessary columns\n",
    "df_3 = small[['order_hour_of_day','prices']] "
   ]
  },
  {
   "cell_type": "code",
   "execution_count": 31,
   "id": "34a68227",
   "metadata": {},
   "outputs": [
    {
     "data": {
      "image/png": "[encoded data removed]",
      "text/plain": [
       "<Figure size 432x288 with 1 Axes>"
      ]
     },
     "metadata": {
      "needs_background": "light"
     },
     "output_type": "display_data"
    }
   ],
   "source": [
    "line_prices = sns.lineplot(data = df_3, x = 'order_hour_of_day', y = 'prices')"
   ]
  },
  {
   "cell_type": "markdown",
   "id": "1792af6d",
   "metadata": {},
   "source": [
    "#### \"age\" Line Chart"
   ]
  },
  {
   "cell_type": "code",
   "execution_count": 32,
   "id": "9871f104",
   "metadata": {},
   "outputs": [],
   "source": [
    "# reduce sample to only necessary columns\n",
    "df_4 = small[['age','dependants']] "
   ]
  },
  {
   "cell_type": "code",
   "execution_count": 33,
   "id": "4dd69ce6",
   "metadata": {},
   "outputs": [
    {
     "data": {
      "image/png": "[encoded data removed]",
      "text/plain": [
       "<Figure size 432x288 with 1 Axes>"
      ]
     },
     "metadata": {
      "needs_background": "light"
     },
     "output_type": "display_data"
    }
   ],
   "source": [
    "line_age = sns.lineplot(data = df_4, x = 'dependants', y = 'age')"
   ]
  },
  {
   "cell_type": "markdown",
   "id": "c6c4c833",
   "metadata": {},
   "source": [
    "##### The chart appears to show the average number of dependants at 1.5, with the average customer age being approximately 49.45."
   ]
  },
  {
   "cell_type": "markdown",
   "id": "f85332dc",
   "metadata": {},
   "source": [
    "#### \"income\" Scatterplot"
   ]
  },
  {
   "cell_type": "code",
   "execution_count": 34,
   "id": "ee1bde65",
   "metadata": {},
   "outputs": [
    {
     "data": {
      "image/png": "[encoded data removed]",
      "text/plain": [
       "<Figure size 432x288 with 1 Axes>"
      ]
     },
     "metadata": {
      "needs_background": "light"
     },
     "output_type": "display_data"
    }
   ],
   "source": [
    "scatter_income = sns.scatterplot(data = df, x = 'age', y = 'income')"
   ]
  },
  {
   "cell_type": "markdown",
   "id": "93dbe866",
   "metadata": {},
   "source": [
    "##### While appearing otherwise consistent, there is a notable spike in average income over the age of 40. Also fewer >200,000 incomes below age 40, and fewer >300,000 above age 40."
   ]
  },
  {
   "cell_type": "markdown",
   "id": "c801a136",
   "metadata": {},
   "source": [
    "#### Export visualizations as “.png” "
   ]
  },
  {
   "cell_type": "code",
   "execution_count": 37,
   "id": "b16fe43a",
   "metadata": {},
   "outputs": [],
   "source": [
    "# \"orders_day_of_week\" Bar Chart\n",
    "bar.figure.savefig(os.path.join(path, '04 Analysis', 'Visualizations', 'orders_dow_bar.png'))"
   ]
  },
  {
   "cell_type": "code",
   "execution_count": 38,
   "id": "2c3b6873",
   "metadata": {},
   "outputs": [],
   "source": [
    "# \"prices\" Histogram\n",
    "hist.figure.savefig(os.path.join(path, '04 Analysis', 'Visualizations', 'prices_hist.png'))"
   ]
  },
  {
   "cell_type": "code",
   "execution_count": 39,
   "id": "adcbcc7b",
   "metadata": {},
   "outputs": [],
   "source": [
    "# sample prices Line Chart\n",
    "line.figure.savefig(os.path.join(path, '04 Analysis', 'Visualizations', 'sample_prices_line.png'))"
   ]
  },
  {
   "cell_type": "code",
   "execution_count": 40,
   "id": "4e4f9fd4",
   "metadata": {},
   "outputs": [],
   "source": [
    "# “order_hour_of_day” Histogram\n",
    "hist_ohod.figure.savefig(os.path.join(path, '04 Analysis', 'Visualizations', 'order_hod_hist.png'))"
   ]
  },
  {
   "cell_type": "code",
   "execution_count": 41,
   "id": "f8893066",
   "metadata": {},
   "outputs": [],
   "source": [
    "# \"loyalty_flag\" Bar Chart\n",
    "bar_lf.figure.savefig(os.path.join(path, '04 Analysis', 'Visualizations', 'loyalty_flag_bar.png'))"
   ]
  },
  {
   "cell_type": "code",
   "execution_count": 42,
   "id": "ad3f680c",
   "metadata": {},
   "outputs": [],
   "source": [
    "# \"prices\" Line Chart\n",
    "line_prices.figure.savefig(os.path.join(path, '04 Analysis', 'Visualizations', 'prices_line.png'))"
   ]
  },
  {
   "cell_type": "code",
   "execution_count": 43,
   "id": "cfb04092",
   "metadata": {},
   "outputs": [],
   "source": [
    "# \"age\" Line Chart\n",
    "line_age.figure.savefig(os.path.join(path, '04 Analysis', 'Visualizations', 'age_line.png'))"
   ]
  },
  {
   "cell_type": "code",
   "execution_count": 44,
   "id": "54b44568",
   "metadata": {},
   "outputs": [],
   "source": [
    "# \"income\" Scatterplot\n",
    "scatter_income.figure.savefig(os.path.join(path, '04 Analysis', 'Visualizations', 'income_scatter.png'))"
   ]
  }
 ],
 "metadata": {
  "kernelspec": {
   "display_name": "Python 3 (ipykernel)",
   "language": "python",
   "name": "python3"
  },
  "language_info": {
   "codemirror_mode": {
    "name": "ipython",
    "version": 3
   },
   "file_extension": ".py",
   "mimetype": "text/x-python",
   "name": "python",
   "nbconvert_exporter": "python",
   "pygments_lexer": "ipython3",
   "version": "3.9.7"
  }
 },
 "nbformat": 4,
 "nbformat_minor": 5
}
