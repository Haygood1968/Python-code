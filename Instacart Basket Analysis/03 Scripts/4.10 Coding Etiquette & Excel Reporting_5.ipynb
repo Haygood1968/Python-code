{
 "cells": [
  {
   "cell_type": "markdown",
   "id": "c7493e9d",
   "metadata": {},
   "source": [
    "### Task 4.10 - Part 1 continued_5"
   ]
  },
  {
   "cell_type": "markdown",
   "id": "fb8ee0c1",
   "metadata": {},
   "source": [
    "##### Table of Contents\n",
    "Continuing visualizations\n",
    "\n",
    "7.\tAggregate the max, mean, and min variables on a customer-profile level for usage frequency and expenditure\n",
    "\n",
    "8.\tCompare your customer profiles with regions and departments. Can you identify a link between them? Customers may demonstrate different behaviors across regions, which could make this information important."
   ]
  },
  {
   "cell_type": "code",
   "execution_count": 1,
   "id": "cd063c28",
   "metadata": {},
   "outputs": [],
   "source": [
    "# Import libraries\n",
    "import pandas as pd\n",
    "import numpy as np\n",
    "import os\n",
    "import matplotlib.pyplot as plt\n",
    "import seaborn as sns\n",
    "import scipy"
   ]
  },
  {
   "cell_type": "code",
   "execution_count": 2,
   "id": "a8571f4c",
   "metadata": {},
   "outputs": [],
   "source": [
    "path = r'C:\\Users\\Jay\\Documents\\Instacart Basket Analysis'"
   ]
  },
  {
   "cell_type": "code",
   "execution_count": 3,
   "id": "2242d462",
   "metadata": {},
   "outputs": [],
   "source": [
    "# import prepared data\n",
    "df = pd.read_pickle(os.path.join(path, '02 Data Sets', 'Prepared Data', 'df_4.pkl'))"
   ]
  },
  {
   "cell_type": "code",
   "execution_count": 4,
   "id": "e9c5cc66",
   "metadata": {},
   "outputs": [
    {
     "data": {
      "text/plain": [
       "(30964570, 39)"
      ]
     },
     "execution_count": 4,
     "metadata": {},
     "output_type": "execute_result"
    }
   ],
   "source": [
    "df.shape"
   ]
  },
  {
   "cell_type": "code",
   "execution_count": 5,
   "id": "3cf99df3",
   "metadata": {},
   "outputs": [
    {
     "data": {
      "text/html": [
       "<div>\n",
       "<style scoped>\n",
       "    .dataframe tbody tr th:only-of-type {\n",
       "        vertical-align: middle;\n",
       "    }\n",
       "\n",
       "    .dataframe tbody tr th {\n",
       "        vertical-align: top;\n",
       "    }\n",
       "\n",
       "    .dataframe thead th {\n",
       "        text-align: right;\n",
       "    }\n",
       "</style>\n",
       "<table border=\"1\" class=\"dataframe\">\n",
       "  <thead>\n",
       "    <tr style=\"text-align: right;\">\n",
       "      <th></th>\n",
       "      <th>department_id</th>\n",
       "      <th>department</th>\n",
       "      <th>order_id</th>\n",
       "      <th>user_id</th>\n",
       "      <th>order_number</th>\n",
       "      <th>orders_day_of_week</th>\n",
       "      <th>order_hour_of_day</th>\n",
       "      <th>days_since_prior_order</th>\n",
       "      <th>new_customer</th>\n",
       "      <th>product_id</th>\n",
       "      <th>...</th>\n",
       "      <th>dependants</th>\n",
       "      <th>family_status</th>\n",
       "      <th>income</th>\n",
       "      <th>region</th>\n",
       "      <th>exclusion_flag</th>\n",
       "      <th>age_group</th>\n",
       "      <th>income_range</th>\n",
       "      <th>parental_status</th>\n",
       "      <th>weekday</th>\n",
       "      <th>day_section</th>\n",
       "    </tr>\n",
       "  </thead>\n",
       "  <tbody>\n",
       "    <tr>\n",
       "      <th>0</th>\n",
       "      <td>1</td>\n",
       "      <td>frozen</td>\n",
       "      <td>738281</td>\n",
       "      <td>2</td>\n",
       "      <td>4</td>\n",
       "      <td>2</td>\n",
       "      <td>10</td>\n",
       "      <td>8.0</td>\n",
       "      <td>False</td>\n",
       "      <td>45613</td>\n",
       "      <td>...</td>\n",
       "      <td>3</td>\n",
       "      <td>married</td>\n",
       "      <td>64940</td>\n",
       "      <td>West</td>\n",
       "      <td>Frequent Customer</td>\n",
       "      <td>60-69</td>\n",
       "      <td>050000-69999</td>\n",
       "      <td>Parent</td>\n",
       "      <td>Monday</td>\n",
       "      <td>Mid-day</td>\n",
       "    </tr>\n",
       "    <tr>\n",
       "      <th>1</th>\n",
       "      <td>1</td>\n",
       "      <td>frozen</td>\n",
       "      <td>738281</td>\n",
       "      <td>2</td>\n",
       "      <td>4</td>\n",
       "      <td>2</td>\n",
       "      <td>10</td>\n",
       "      <td>8.0</td>\n",
       "      <td>False</td>\n",
       "      <td>9681</td>\n",
       "      <td>...</td>\n",
       "      <td>3</td>\n",
       "      <td>married</td>\n",
       "      <td>64940</td>\n",
       "      <td>West</td>\n",
       "      <td>Frequent Customer</td>\n",
       "      <td>60-69</td>\n",
       "      <td>050000-69999</td>\n",
       "      <td>Parent</td>\n",
       "      <td>Monday</td>\n",
       "      <td>Mid-day</td>\n",
       "    </tr>\n",
       "    <tr>\n",
       "      <th>2</th>\n",
       "      <td>1</td>\n",
       "      <td>frozen</td>\n",
       "      <td>738281</td>\n",
       "      <td>2</td>\n",
       "      <td>4</td>\n",
       "      <td>2</td>\n",
       "      <td>10</td>\n",
       "      <td>8.0</td>\n",
       "      <td>False</td>\n",
       "      <td>21150</td>\n",
       "      <td>...</td>\n",
       "      <td>3</td>\n",
       "      <td>married</td>\n",
       "      <td>64940</td>\n",
       "      <td>West</td>\n",
       "      <td>Frequent Customer</td>\n",
       "      <td>60-69</td>\n",
       "      <td>050000-69999</td>\n",
       "      <td>Parent</td>\n",
       "      <td>Monday</td>\n",
       "      <td>Mid-day</td>\n",
       "    </tr>\n",
       "    <tr>\n",
       "      <th>3</th>\n",
       "      <td>1</td>\n",
       "      <td>frozen</td>\n",
       "      <td>1199898</td>\n",
       "      <td>2</td>\n",
       "      <td>6</td>\n",
       "      <td>2</td>\n",
       "      <td>9</td>\n",
       "      <td>13.0</td>\n",
       "      <td>False</td>\n",
       "      <td>9681</td>\n",
       "      <td>...</td>\n",
       "      <td>3</td>\n",
       "      <td>married</td>\n",
       "      <td>64940</td>\n",
       "      <td>West</td>\n",
       "      <td>Frequent Customer</td>\n",
       "      <td>60-69</td>\n",
       "      <td>050000-69999</td>\n",
       "      <td>Parent</td>\n",
       "      <td>Monday</td>\n",
       "      <td>Morning</td>\n",
       "    </tr>\n",
       "    <tr>\n",
       "      <th>4</th>\n",
       "      <td>1</td>\n",
       "      <td>frozen</td>\n",
       "      <td>788338</td>\n",
       "      <td>2</td>\n",
       "      <td>8</td>\n",
       "      <td>1</td>\n",
       "      <td>15</td>\n",
       "      <td>27.0</td>\n",
       "      <td>False</td>\n",
       "      <td>2002</td>\n",
       "      <td>...</td>\n",
       "      <td>3</td>\n",
       "      <td>married</td>\n",
       "      <td>64940</td>\n",
       "      <td>West</td>\n",
       "      <td>Frequent Customer</td>\n",
       "      <td>60-69</td>\n",
       "      <td>050000-69999</td>\n",
       "      <td>Parent</td>\n",
       "      <td>Sunday</td>\n",
       "      <td>Afternoon</td>\n",
       "    </tr>\n",
       "  </tbody>\n",
       "</table>\n",
       "<p>5 rows × 39 columns</p>\n",
       "</div>"
      ],
      "text/plain": [
       "   department_id department  order_id  user_id  order_number  \\\n",
       "0              1     frozen    738281        2             4   \n",
       "1              1     frozen    738281        2             4   \n",
       "2              1     frozen    738281        2             4   \n",
       "3              1     frozen   1199898        2             6   \n",
       "4              1     frozen    788338        2             8   \n",
       "\n",
       "   orders_day_of_week  order_hour_of_day  days_since_prior_order  \\\n",
       "0                   2                 10                     8.0   \n",
       "1                   2                 10                     8.0   \n",
       "2                   2                 10                     8.0   \n",
       "3                   2                  9                    13.0   \n",
       "4                   1                 15                    27.0   \n",
       "\n",
       "   new_customer  product_id  ...  dependants  family_status income  region  \\\n",
       "0         False       45613  ...           3        married  64940    West   \n",
       "1         False        9681  ...           3        married  64940    West   \n",
       "2         False       21150  ...           3        married  64940    West   \n",
       "3         False        9681  ...           3        married  64940    West   \n",
       "4         False        2002  ...           3        married  64940    West   \n",
       "\n",
       "      exclusion_flag age_group  income_range parental_status weekday  \\\n",
       "0  Frequent Customer     60-69  050000-69999          Parent  Monday   \n",
       "1  Frequent Customer     60-69  050000-69999          Parent  Monday   \n",
       "2  Frequent Customer     60-69  050000-69999          Parent  Monday   \n",
       "3  Frequent Customer     60-69  050000-69999          Parent  Monday   \n",
       "4  Frequent Customer     60-69  050000-69999          Parent  Sunday   \n",
       "\n",
       "  day_section  \n",
       "0     Mid-day  \n",
       "1     Mid-day  \n",
       "2     Mid-day  \n",
       "3     Morning  \n",
       "4   Afternoon  \n",
       "\n",
       "[5 rows x 39 columns]"
      ]
     },
     "execution_count": 5,
     "metadata": {},
     "output_type": "execute_result"
    }
   ],
   "source": [
    "df.head()"
   ]
  },
  {
   "cell_type": "code",
   "execution_count": 6,
   "id": "bd218628",
   "metadata": {},
   "outputs": [
    {
     "data": {
      "text/plain": [
       "department_id                int64\n",
       "department                category\n",
       "order_id                     int64\n",
       "user_id                      int64\n",
       "order_number                 int64\n",
       "orders_day_of_week           int64\n",
       "order_hour_of_day            int64\n",
       "days_since_prior_order     float64\n",
       "new_customer                  bool\n",
       "product_id                   int64\n",
       "add_to_cart_order            int64\n",
       "reordered                    int64\n",
       "product_name              category\n",
       "aisle_id                   float64\n",
       "prices                     float64\n",
       "_merge                    category\n",
       "price_range_loc           category\n",
       "Busiest day               category\n",
       "Busiest_days              category\n",
       "busiest_period_of_day     category\n",
       "max_order                    int64\n",
       "loyalty_flag              category\n",
       "spending                   float64\n",
       "spending_flag             category\n",
       "frequency                  float64\n",
       "gender                    category\n",
       "state                     category\n",
       "age                          int64\n",
       "date_joined               category\n",
       "dependants                   int64\n",
       "family_status             category\n",
       "income                       int64\n",
       "region                    category\n",
       "exclusion_flag            category\n",
       "age_group                 category\n",
       "income_range              category\n",
       "parental_status           category\n",
       "weekday                   category\n",
       "day_section               category\n",
       "dtype: object"
      ]
     },
     "execution_count": 6,
     "metadata": {},
     "output_type": "execute_result"
    }
   ],
   "source": [
    "df.dtypes"
   ]
  },
  {
   "cell_type": "markdown",
   "id": "29b9fe81",
   "metadata": {},
   "source": [
    "###### Continuing visualizations"
   ]
  },
  {
   "cell_type": "code",
   "execution_count": 28,
   "id": "b769b925",
   "metadata": {},
   "outputs": [],
   "source": [
    "# crosstab of weekday & income_range variables\n",
    "xtab_day_income = pd.crosstab(df['weekday'], df['income_range'], dropna = False)"
   ]
  },
  {
   "cell_type": "code",
   "execution_count": 29,
   "id": "1a646268",
   "metadata": {},
   "outputs": [
    {
     "data": {
      "image/png": "[encoded data removed]",
      "text/plain": [
       "<Figure size 432x288 with 1 Axes>"
      ]
     },
     "metadata": {
      "needs_background": "light"
     },
     "output_type": "display_data"
    }
   ],
   "source": [
    "bar_day_income = xtab_day_income.plot.bar(stacked = True, color = sns.color_palette('Blues_r', 9))\n",
    "plt.legend(title = 'income',loc='center left', bbox_to_anchor=(1, 0.5))\n",
    "plt.xticks(rotation=45)\n",
    "plt.tight_layout()"
   ]
  },
  {
   "cell_type": "code",
   "execution_count": 30,
   "id": "7904ef19",
   "metadata": {},
   "outputs": [],
   "source": [
    "xtab_busypod_age = pd.crosstab(df['day_section'], df['age_group'], dropna = False)"
   ]
  },
  {
   "cell_type": "code",
   "execution_count": 31,
   "id": "ee36f277",
   "metadata": {},
   "outputs": [
    {
     "data": {
      "image/png": "[encoded data removed]",
      "text/plain": [
       "<Figure size 432x288 with 1 Axes>"
      ]
     },
     "metadata": {
      "needs_background": "light"
     },
     "output_type": "display_data"
    }
   ],
   "source": [
    "bar_busypod_age = xtab_busypod_age.plot.bar(stacked = True, color = sns.color_palette('Purples_r', 7))\n",
    "plt.legend(title = 'age_group',loc='upper center')\n",
    "plt.xticks(rotation=45)\n",
    "plt.tight_layout()"
   ]
  },
  {
   "cell_type": "code",
   "execution_count": 33,
   "id": "03670ad1",
   "metadata": {},
   "outputs": [],
   "source": [
    "# export \"bar_day_income\" Bar Chart\n",
    "bar_day_income.figure.savefig(os.path.join(path, '04 Analysis', 'Visualizations', 'bar_day_income.png'))"
   ]
  },
  {
   "cell_type": "code",
   "execution_count": 34,
   "id": "287f086b",
   "metadata": {},
   "outputs": [],
   "source": [
    "# export \"bar_busypod_age\" Bar Chart\n",
    "bar_busypod_age.figure.savefig(os.path.join(path, '04 Analysis', 'Visualizations', 'bar_busypod_age.png'))"
   ]
  },
  {
   "cell_type": "code",
   "execution_count": 51,
   "id": "02b05cf4",
   "metadata": {},
   "outputs": [
    {
     "data": {
      "image/png": "[encoded data removed]",
      "text/plain": [
       "<Figure size 432x288 with 1 Axes>"
      ]
     },
     "metadata": {
      "needs_background": "light"
     },
     "output_type": "display_data"
    }
   ],
   "source": [
    "# Busiest hours of the day\n",
    "bar_busy_hour = df['order_hour_of_day'].value_counts().sort_index().plot.bar(color = sns.color_palette('Blues', 1))\n",
    "plt.xticks(rotation=0, horizontalalignment=\"center\")\n",
    "plt.tight_layout()"
   ]
  },
  {
   "cell_type": "code",
   "execution_count": 57,
   "id": "8e04827c",
   "metadata": {},
   "outputs": [
    {
     "data": {
      "image/png": "[encoded data removed]",
      "text/plain": [
       "<Figure size 432x288 with 1 Axes>"
      ]
     },
     "metadata": {
      "needs_background": "light"
     },
     "output_type": "display_data"
    }
   ],
   "source": [
    "# Busiest day of the week\n",
    "bar_busy_dow = df['weekday'].value_counts().plot.bar(color = sns.color_palette('Blues', 1))\n",
    "plt.xticks(rotation=45, horizontalalignment=\"center\")\n",
    "plt.tight_layout()"
   ]
  },
  {
   "cell_type": "code",
   "execution_count": 58,
   "id": "efc70fc6",
   "metadata": {},
   "outputs": [],
   "source": [
    "# export \"bar_busy_dow\" Bar Chart\n",
    "bar_busy_dow.figure.savefig(os.path.join(path, '04 Analysis', 'Visualizations', 'bar_busy_dow.png'))"
   ]
  },
  {
   "cell_type": "code",
   "execution_count": 59,
   "id": "a0c4a66b",
   "metadata": {},
   "outputs": [],
   "source": [
    "# export \"bar_busy_hour\" Bar Chart\n",
    "bar_busy_hour.figure.savefig(os.path.join(path, '04 Analysis', 'Visualizations', 'bar_busy_hour.png'))"
   ]
  },
  {
   "cell_type": "code",
   "execution_count": 62,
   "id": "a9d5d340",
   "metadata": {},
   "outputs": [],
   "source": [
    "# Mean price per weekday\n",
    "price_weekday = df.groupby('weekday').agg({'prices': ['mean']})"
   ]
  },
  {
   "cell_type": "code",
   "execution_count": 63,
   "id": "9c822b2b",
   "metadata": {},
   "outputs": [
    {
     "data": {
      "text/plain": [
       "Text(0, 0.5, 'mean_price')"
      ]
     },
     "execution_count": 63,
     "metadata": {},
     "output_type": "execute_result"
    },
    {
     "data": {
      "image/png": "[encoded data removed]",
      "text/plain": [
       "<Figure size 432x288 with 1 Axes>"
      ]
     },
     "metadata": {
      "needs_background": "light"
     },
     "output_type": "display_data"
    }
   ],
   "source": [
    "# Create a line chart of mean prices per weekday\n",
    "line_price_weekday = price_weekday.plot.line(legend = False, color = sns.color_palette('Purples', 1))\n",
    "plt.ylabel('mean_price')"
   ]
  },
  {
   "cell_type": "code",
   "execution_count": 66,
   "id": "5913d803",
   "metadata": {},
   "outputs": [],
   "source": [
    "# Crosstab for department and day_section\n",
    "dept_pod = pd.crosstab(df['department'], df['day_section'], dropna = False)"
   ]
  },
  {
   "cell_type": "code",
   "execution_count": 78,
   "id": "08812034",
   "metadata": {},
   "outputs": [
    {
     "data": {
      "image/png": "[encoded data removed]",
      "text/plain": [
       "<Figure size 432x288 with 1 Axes>"
      ]
     },
     "metadata": {
      "needs_background": "light"
     },
     "output_type": "display_data"
    }
   ],
   "source": [
    "bar_dept_pod = dept_pod.plot.bar(stacked = True, color = sns.color_palette('Purples', 5))\n",
    "plt.legend(title = 'day_section',loc='upper center')\n",
    "plt.tight_layout()"
   ]
  },
  {
   "cell_type": "code",
   "execution_count": 72,
   "id": "765d5051",
   "metadata": {},
   "outputs": [],
   "source": [
    "# export \"line_price_weekday\" Line Chart\n",
    "line_price_weekday.figure.savefig(os.path.join(path, '04 Analysis', 'Visualizations', 'line_price_weekday.png'))"
   ]
  },
  {
   "cell_type": "code",
   "execution_count": 73,
   "id": "67db0ca1",
   "metadata": {},
   "outputs": [],
   "source": [
    "# export \"bar_dept_pod\" Bar Chart\n",
    "bar_dept_pod.figure.savefig(os.path.join(path, '04 Analysis', 'Visualizations', 'bar_dept_pod.png'))"
   ]
  },
  {
   "cell_type": "code",
   "execution_count": 74,
   "id": "a9f48a1b",
   "metadata": {},
   "outputs": [],
   "source": [
    "# Crosstab for department and weekday\n",
    "dept_dow = pd.crosstab(df['department'], df['weekday'], dropna = False)"
   ]
  },
  {
   "cell_type": "code",
   "execution_count": 80,
   "id": "3b718ab9",
   "metadata": {},
   "outputs": [
    {
     "data": {
      "image/png": "[encoded data removed]",
      "text/plain": [
       "<Figure size 432x288 with 1 Axes>"
      ]
     },
     "metadata": {
      "needs_background": "light"
     },
     "output_type": "display_data"
    }
   ],
   "source": [
    "bar_dept_dow = dept_dow.plot.bar(stacked = True, color  = sns.color_palette('Blues', 7))\n",
    "plt.legend(title = 'weekday',loc='upper center')\n",
    "plt.tight_layout()"
   ]
  },
  {
   "cell_type": "code",
   "execution_count": 81,
   "id": "a105bf0c",
   "metadata": {},
   "outputs": [],
   "source": [
    "# export \"bar_dept_dow\" Bar Chart\n",
    "bar_dept_dow.figure.savefig(os.path.join(path, '04 Analysis', 'Visualizations', 'bar_dept_dow.png'))"
   ]
  },
  {
   "cell_type": "code",
   "execution_count": 82,
   "id": "3330b408",
   "metadata": {},
   "outputs": [],
   "source": [
    "# Crosstab for weekday and parental_status\n",
    "dow_parent = pd.crosstab(df['weekday'], df['parental_status'], dropna = False)"
   ]
  },
  {
   "cell_type": "code",
   "execution_count": 84,
   "id": "1afdbb34",
   "metadata": {},
   "outputs": [
    {
     "data": {
      "image/png": "[encoded data removed]",
      "text/plain": [
       "<Figure size 432x288 with 1 Axes>"
      ]
     },
     "metadata": {
      "needs_background": "light"
     },
     "output_type": "display_data"
    }
   ],
   "source": [
    "bar_dow_parent = dow_parent.plot.bar(stacked = True, color = sns.color_palette('Greens', 2))\n",
    "plt.legend(title = 'parental_status',loc='upper left')\n",
    "plt.xticks(rotation=45, horizontalalignment=\"center\")\n",
    "plt.tight_layout()"
   ]
  },
  {
   "cell_type": "code",
   "execution_count": 85,
   "id": "1c0ba804",
   "metadata": {},
   "outputs": [],
   "source": [
    "# export \"bar_dow_parent\" Bar Chart\n",
    "bar_dow_parent.figure.savefig(os.path.join(path, '04 Analysis', 'Visualizations', 'bar_dow_parent.png'))"
   ]
  },
  {
   "cell_type": "markdown",
   "id": "c62943ec",
   "metadata": {},
   "source": [
    "7.\tAggregate the max, mean, and min variables on a customer-profile level for usage frequency and expenditure."
   ]
  },
  {
   "cell_type": "code",
   "execution_count": 86,
   "id": "b63a16bb",
   "metadata": {},
   "outputs": [],
   "source": [
    "# aggregating age + prices\n",
    "agg_age_price = df.groupby('age').agg({'prices' : ['min', 'mean', 'max']})"
   ]
  },
  {
   "cell_type": "code",
   "execution_count": 87,
   "id": "a0f6d4b1",
   "metadata": {},
   "outputs": [
    {
     "data": {
      "text/html": [
       "<div>\n",
       "<style scoped>\n",
       "    .dataframe tbody tr th:only-of-type {\n",
       "        vertical-align: middle;\n",
       "    }\n",
       "\n",
       "    .dataframe tbody tr th {\n",
       "        vertical-align: top;\n",
       "    }\n",
       "\n",
       "    .dataframe thead tr th {\n",
       "        text-align: left;\n",
       "    }\n",
       "\n",
       "    .dataframe thead tr:last-of-type th {\n",
       "        text-align: right;\n",
       "    }\n",
       "</style>\n",
       "<table border=\"1\" class=\"dataframe\">\n",
       "  <thead>\n",
       "    <tr>\n",
       "      <th></th>\n",
       "      <th colspan=\"3\" halign=\"left\">prices</th>\n",
       "    </tr>\n",
       "    <tr>\n",
       "      <th></th>\n",
       "      <th>min</th>\n",
       "      <th>mean</th>\n",
       "      <th>max</th>\n",
       "    </tr>\n",
       "    <tr>\n",
       "      <th>age</th>\n",
       "      <th></th>\n",
       "      <th></th>\n",
       "      <th></th>\n",
       "    </tr>\n",
       "  </thead>\n",
       "  <tbody>\n",
       "    <tr>\n",
       "      <th>18</th>\n",
       "      <td>1.0</td>\n",
       "      <td>7.805299</td>\n",
       "      <td>25.0</td>\n",
       "    </tr>\n",
       "    <tr>\n",
       "      <th>19</th>\n",
       "      <td>1.0</td>\n",
       "      <td>7.807545</td>\n",
       "      <td>25.0</td>\n",
       "    </tr>\n",
       "    <tr>\n",
       "      <th>20</th>\n",
       "      <td>1.0</td>\n",
       "      <td>7.771265</td>\n",
       "      <td>25.0</td>\n",
       "    </tr>\n",
       "    <tr>\n",
       "      <th>21</th>\n",
       "      <td>1.0</td>\n",
       "      <td>7.780373</td>\n",
       "      <td>25.0</td>\n",
       "    </tr>\n",
       "    <tr>\n",
       "      <th>22</th>\n",
       "      <td>1.0</td>\n",
       "      <td>7.785209</td>\n",
       "      <td>25.0</td>\n",
       "    </tr>\n",
       "    <tr>\n",
       "      <th>...</th>\n",
       "      <td>...</td>\n",
       "      <td>...</td>\n",
       "      <td>...</td>\n",
       "    </tr>\n",
       "    <tr>\n",
       "      <th>77</th>\n",
       "      <td>1.0</td>\n",
       "      <td>7.758583</td>\n",
       "      <td>25.0</td>\n",
       "    </tr>\n",
       "    <tr>\n",
       "      <th>78</th>\n",
       "      <td>1.0</td>\n",
       "      <td>7.811525</td>\n",
       "      <td>25.0</td>\n",
       "    </tr>\n",
       "    <tr>\n",
       "      <th>79</th>\n",
       "      <td>1.0</td>\n",
       "      <td>7.776831</td>\n",
       "      <td>25.0</td>\n",
       "    </tr>\n",
       "    <tr>\n",
       "      <th>80</th>\n",
       "      <td>1.0</td>\n",
       "      <td>7.802853</td>\n",
       "      <td>25.0</td>\n",
       "    </tr>\n",
       "    <tr>\n",
       "      <th>81</th>\n",
       "      <td>1.0</td>\n",
       "      <td>7.803464</td>\n",
       "      <td>25.0</td>\n",
       "    </tr>\n",
       "  </tbody>\n",
       "</table>\n",
       "<p>64 rows × 3 columns</p>\n",
       "</div>"
      ],
      "text/plain": [
       "    prices                \n",
       "       min      mean   max\n",
       "age                       \n",
       "18     1.0  7.805299  25.0\n",
       "19     1.0  7.807545  25.0\n",
       "20     1.0  7.771265  25.0\n",
       "21     1.0  7.780373  25.0\n",
       "22     1.0  7.785209  25.0\n",
       "..     ...       ...   ...\n",
       "77     1.0  7.758583  25.0\n",
       "78     1.0  7.811525  25.0\n",
       "79     1.0  7.776831  25.0\n",
       "80     1.0  7.802853  25.0\n",
       "81     1.0  7.803464  25.0\n",
       "\n",
       "[64 rows x 3 columns]"
      ]
     },
     "execution_count": 87,
     "metadata": {},
     "output_type": "execute_result"
    }
   ],
   "source": [
    "agg_age_price"
   ]
  },
  {
   "cell_type": "code",
   "execution_count": 89,
   "id": "b96f231b",
   "metadata": {},
   "outputs": [],
   "source": [
    "# aggregating age + order number\n",
    "agg_age_order_number = df.groupby('age').agg({'order_number' : ['min', 'mean', 'max']})"
   ]
  },
  {
   "cell_type": "code",
   "execution_count": 90,
   "id": "70b0d9c9",
   "metadata": {},
   "outputs": [
    {
     "data": {
      "text/html": [
       "<div>\n",
       "<style scoped>\n",
       "    .dataframe tbody tr th:only-of-type {\n",
       "        vertical-align: middle;\n",
       "    }\n",
       "\n",
       "    .dataframe tbody tr th {\n",
       "        vertical-align: top;\n",
       "    }\n",
       "\n",
       "    .dataframe thead tr th {\n",
       "        text-align: left;\n",
       "    }\n",
       "\n",
       "    .dataframe thead tr:last-of-type th {\n",
       "        text-align: right;\n",
       "    }\n",
       "</style>\n",
       "<table border=\"1\" class=\"dataframe\">\n",
       "  <thead>\n",
       "    <tr>\n",
       "      <th></th>\n",
       "      <th colspan=\"3\" halign=\"left\">order_number</th>\n",
       "    </tr>\n",
       "    <tr>\n",
       "      <th></th>\n",
       "      <th>min</th>\n",
       "      <th>mean</th>\n",
       "      <th>max</th>\n",
       "    </tr>\n",
       "    <tr>\n",
       "      <th>age</th>\n",
       "      <th></th>\n",
       "      <th></th>\n",
       "      <th></th>\n",
       "    </tr>\n",
       "  </thead>\n",
       "  <tbody>\n",
       "    <tr>\n",
       "      <th>18</th>\n",
       "      <td>1</td>\n",
       "      <td>17.722075</td>\n",
       "      <td>99</td>\n",
       "    </tr>\n",
       "    <tr>\n",
       "      <th>19</th>\n",
       "      <td>1</td>\n",
       "      <td>17.996109</td>\n",
       "      <td>99</td>\n",
       "    </tr>\n",
       "    <tr>\n",
       "      <th>20</th>\n",
       "      <td>1</td>\n",
       "      <td>17.335798</td>\n",
       "      <td>99</td>\n",
       "    </tr>\n",
       "    <tr>\n",
       "      <th>21</th>\n",
       "      <td>1</td>\n",
       "      <td>18.504328</td>\n",
       "      <td>99</td>\n",
       "    </tr>\n",
       "    <tr>\n",
       "      <th>22</th>\n",
       "      <td>1</td>\n",
       "      <td>18.696633</td>\n",
       "      <td>99</td>\n",
       "    </tr>\n",
       "    <tr>\n",
       "      <th>...</th>\n",
       "      <td>...</td>\n",
       "      <td>...</td>\n",
       "      <td>...</td>\n",
       "    </tr>\n",
       "    <tr>\n",
       "      <th>77</th>\n",
       "      <td>1</td>\n",
       "      <td>17.721439</td>\n",
       "      <td>99</td>\n",
       "    </tr>\n",
       "    <tr>\n",
       "      <th>78</th>\n",
       "      <td>1</td>\n",
       "      <td>17.375198</td>\n",
       "      <td>99</td>\n",
       "    </tr>\n",
       "    <tr>\n",
       "      <th>79</th>\n",
       "      <td>1</td>\n",
       "      <td>17.848475</td>\n",
       "      <td>99</td>\n",
       "    </tr>\n",
       "    <tr>\n",
       "      <th>80</th>\n",
       "      <td>1</td>\n",
       "      <td>18.088988</td>\n",
       "      <td>99</td>\n",
       "    </tr>\n",
       "    <tr>\n",
       "      <th>81</th>\n",
       "      <td>1</td>\n",
       "      <td>18.017180</td>\n",
       "      <td>99</td>\n",
       "    </tr>\n",
       "  </tbody>\n",
       "</table>\n",
       "<p>64 rows × 3 columns</p>\n",
       "</div>"
      ],
      "text/plain": [
       "    order_number               \n",
       "             min       mean max\n",
       "age                            \n",
       "18             1  17.722075  99\n",
       "19             1  17.996109  99\n",
       "20             1  17.335798  99\n",
       "21             1  18.504328  99\n",
       "22             1  18.696633  99\n",
       "..           ...        ...  ..\n",
       "77             1  17.721439  99\n",
       "78             1  17.375198  99\n",
       "79             1  17.848475  99\n",
       "80             1  18.088988  99\n",
       "81             1  18.017180  99\n",
       "\n",
       "[64 rows x 3 columns]"
      ]
     },
     "execution_count": 90,
     "metadata": {},
     "output_type": "execute_result"
    }
   ],
   "source": [
    "agg_age_order_number"
   ]
  },
  {
   "cell_type": "code",
   "execution_count": 91,
   "id": "c9a84604",
   "metadata": {},
   "outputs": [],
   "source": [
    "# aggregating income range + prices\n",
    "agg_income_range_price = df.groupby('income_range').agg({'prices' : ['min', 'mean', 'max']})"
   ]
  },
  {
   "cell_type": "code",
   "execution_count": 92,
   "id": "6f9d208d",
   "metadata": {},
   "outputs": [
    {
     "data": {
      "text/html": [
       "<div>\n",
       "<style scoped>\n",
       "    .dataframe tbody tr th:only-of-type {\n",
       "        vertical-align: middle;\n",
       "    }\n",
       "\n",
       "    .dataframe tbody tr th {\n",
       "        vertical-align: top;\n",
       "    }\n",
       "\n",
       "    .dataframe thead tr th {\n",
       "        text-align: left;\n",
       "    }\n",
       "\n",
       "    .dataframe thead tr:last-of-type th {\n",
       "        text-align: right;\n",
       "    }\n",
       "</style>\n",
       "<table border=\"1\" class=\"dataframe\">\n",
       "  <thead>\n",
       "    <tr>\n",
       "      <th></th>\n",
       "      <th colspan=\"3\" halign=\"left\">prices</th>\n",
       "    </tr>\n",
       "    <tr>\n",
       "      <th></th>\n",
       "      <th>min</th>\n",
       "      <th>mean</th>\n",
       "      <th>max</th>\n",
       "    </tr>\n",
       "    <tr>\n",
       "      <th>income_range</th>\n",
       "      <th></th>\n",
       "      <th></th>\n",
       "      <th></th>\n",
       "    </tr>\n",
       "  </thead>\n",
       "  <tbody>\n",
       "    <tr>\n",
       "      <th>0-29999</th>\n",
       "      <td>1.0</td>\n",
       "      <td>6.532603</td>\n",
       "      <td>25.0</td>\n",
       "    </tr>\n",
       "    <tr>\n",
       "      <th>030000-49999</th>\n",
       "      <td>1.0</td>\n",
       "      <td>6.718039</td>\n",
       "      <td>25.0</td>\n",
       "    </tr>\n",
       "    <tr>\n",
       "      <th>050000-69999</th>\n",
       "      <td>1.0</td>\n",
       "      <td>7.782540</td>\n",
       "      <td>25.0</td>\n",
       "    </tr>\n",
       "    <tr>\n",
       "      <th>070000-99999</th>\n",
       "      <td>1.0</td>\n",
       "      <td>7.957059</td>\n",
       "      <td>25.0</td>\n",
       "    </tr>\n",
       "    <tr>\n",
       "      <th>100000-199999</th>\n",
       "      <td>1.0</td>\n",
       "      <td>7.956613</td>\n",
       "      <td>25.0</td>\n",
       "    </tr>\n",
       "    <tr>\n",
       "      <th>200000-299999</th>\n",
       "      <td>1.0</td>\n",
       "      <td>7.791666</td>\n",
       "      <td>25.0</td>\n",
       "    </tr>\n",
       "    <tr>\n",
       "      <th>300000-399999</th>\n",
       "      <td>1.0</td>\n",
       "      <td>7.770836</td>\n",
       "      <td>25.0</td>\n",
       "    </tr>\n",
       "    <tr>\n",
       "      <th>400000-499999</th>\n",
       "      <td>1.0</td>\n",
       "      <td>7.745431</td>\n",
       "      <td>25.0</td>\n",
       "    </tr>\n",
       "    <tr>\n",
       "      <th>500000+</th>\n",
       "      <td>1.0</td>\n",
       "      <td>7.727170</td>\n",
       "      <td>25.0</td>\n",
       "    </tr>\n",
       "  </tbody>\n",
       "</table>\n",
       "</div>"
      ],
      "text/plain": [
       "              prices                \n",
       "                 min      mean   max\n",
       "income_range                        \n",
       "0-29999          1.0  6.532603  25.0\n",
       "030000-49999     1.0  6.718039  25.0\n",
       "050000-69999     1.0  7.782540  25.0\n",
       "070000-99999     1.0  7.957059  25.0\n",
       "100000-199999    1.0  7.956613  25.0\n",
       "200000-299999    1.0  7.791666  25.0\n",
       "300000-399999    1.0  7.770836  25.0\n",
       "400000-499999    1.0  7.745431  25.0\n",
       "500000+          1.0  7.727170  25.0"
      ]
     },
     "execution_count": 92,
     "metadata": {},
     "output_type": "execute_result"
    }
   ],
   "source": [
    "agg_income_range_price"
   ]
  },
  {
   "cell_type": "code",
   "execution_count": 93,
   "id": "f6e2ddf8",
   "metadata": {},
   "outputs": [],
   "source": [
    "# aggregating income range + prices\n",
    "agg_income_range_order_number = df.groupby('income_range').agg({'order_number' : ['min', 'mean', 'max']})"
   ]
  },
  {
   "cell_type": "code",
   "execution_count": 94,
   "id": "6cfc50a2",
   "metadata": {},
   "outputs": [
    {
     "data": {
      "text/html": [
       "<div>\n",
       "<style scoped>\n",
       "    .dataframe tbody tr th:only-of-type {\n",
       "        vertical-align: middle;\n",
       "    }\n",
       "\n",
       "    .dataframe tbody tr th {\n",
       "        vertical-align: top;\n",
       "    }\n",
       "\n",
       "    .dataframe thead tr th {\n",
       "        text-align: left;\n",
       "    }\n",
       "\n",
       "    .dataframe thead tr:last-of-type th {\n",
       "        text-align: right;\n",
       "    }\n",
       "</style>\n",
       "<table border=\"1\" class=\"dataframe\">\n",
       "  <thead>\n",
       "    <tr>\n",
       "      <th></th>\n",
       "      <th colspan=\"3\" halign=\"left\">order_number</th>\n",
       "    </tr>\n",
       "    <tr>\n",
       "      <th></th>\n",
       "      <th>min</th>\n",
       "      <th>mean</th>\n",
       "      <th>max</th>\n",
       "    </tr>\n",
       "    <tr>\n",
       "      <th>income_range</th>\n",
       "      <th></th>\n",
       "      <th></th>\n",
       "      <th></th>\n",
       "    </tr>\n",
       "  </thead>\n",
       "  <tbody>\n",
       "    <tr>\n",
       "      <th>0-29999</th>\n",
       "      <td>1</td>\n",
       "      <td>16.028153</td>\n",
       "      <td>99</td>\n",
       "    </tr>\n",
       "    <tr>\n",
       "      <th>030000-49999</th>\n",
       "      <td>1</td>\n",
       "      <td>16.884912</td>\n",
       "      <td>99</td>\n",
       "    </tr>\n",
       "    <tr>\n",
       "      <th>050000-69999</th>\n",
       "      <td>1</td>\n",
       "      <td>18.001570</td>\n",
       "      <td>99</td>\n",
       "    </tr>\n",
       "    <tr>\n",
       "      <th>070000-99999</th>\n",
       "      <td>1</td>\n",
       "      <td>17.990810</td>\n",
       "      <td>99</td>\n",
       "    </tr>\n",
       "    <tr>\n",
       "      <th>100000-199999</th>\n",
       "      <td>1</td>\n",
       "      <td>17.880489</td>\n",
       "      <td>99</td>\n",
       "    </tr>\n",
       "    <tr>\n",
       "      <th>200000-299999</th>\n",
       "      <td>1</td>\n",
       "      <td>19.864184</td>\n",
       "      <td>99</td>\n",
       "    </tr>\n",
       "    <tr>\n",
       "      <th>300000-399999</th>\n",
       "      <td>1</td>\n",
       "      <td>21.183716</td>\n",
       "      <td>99</td>\n",
       "    </tr>\n",
       "    <tr>\n",
       "      <th>400000-499999</th>\n",
       "      <td>1</td>\n",
       "      <td>18.977656</td>\n",
       "      <td>99</td>\n",
       "    </tr>\n",
       "    <tr>\n",
       "      <th>500000+</th>\n",
       "      <td>1</td>\n",
       "      <td>19.652892</td>\n",
       "      <td>99</td>\n",
       "    </tr>\n",
       "  </tbody>\n",
       "</table>\n",
       "</div>"
      ],
      "text/plain": [
       "              order_number               \n",
       "                       min       mean max\n",
       "income_range                             \n",
       "0-29999                  1  16.028153  99\n",
       "030000-49999             1  16.884912  99\n",
       "050000-69999             1  18.001570  99\n",
       "070000-99999             1  17.990810  99\n",
       "100000-199999            1  17.880489  99\n",
       "200000-299999            1  19.864184  99\n",
       "300000-399999            1  21.183716  99\n",
       "400000-499999            1  18.977656  99\n",
       "500000+                  1  19.652892  99"
      ]
     },
     "execution_count": 94,
     "metadata": {},
     "output_type": "execute_result"
    }
   ],
   "source": [
    "agg_income_range_order_number"
   ]
  },
  {
   "cell_type": "code",
   "execution_count": 95,
   "id": "7a46a1ff",
   "metadata": {},
   "outputs": [],
   "source": [
    "# aggregating family_status + prices\n",
    "agg_fam_status_price = df.groupby('family_status').agg({'prices' : ['min', 'mean', 'max']})"
   ]
  },
  {
   "cell_type": "code",
   "execution_count": 96,
   "id": "cb8d79d7",
   "metadata": {},
   "outputs": [
    {
     "data": {
      "text/html": [
       "<div>\n",
       "<style scoped>\n",
       "    .dataframe tbody tr th:only-of-type {\n",
       "        vertical-align: middle;\n",
       "    }\n",
       "\n",
       "    .dataframe tbody tr th {\n",
       "        vertical-align: top;\n",
       "    }\n",
       "\n",
       "    .dataframe thead tr th {\n",
       "        text-align: left;\n",
       "    }\n",
       "\n",
       "    .dataframe thead tr:last-of-type th {\n",
       "        text-align: right;\n",
       "    }\n",
       "</style>\n",
       "<table border=\"1\" class=\"dataframe\">\n",
       "  <thead>\n",
       "    <tr>\n",
       "      <th></th>\n",
       "      <th colspan=\"3\" halign=\"left\">prices</th>\n",
       "    </tr>\n",
       "    <tr>\n",
       "      <th></th>\n",
       "      <th>min</th>\n",
       "      <th>mean</th>\n",
       "      <th>max</th>\n",
       "    </tr>\n",
       "    <tr>\n",
       "      <th>family_status</th>\n",
       "      <th></th>\n",
       "      <th></th>\n",
       "      <th></th>\n",
       "    </tr>\n",
       "  </thead>\n",
       "  <tbody>\n",
       "    <tr>\n",
       "      <th>divorced/widowed</th>\n",
       "      <td>1.0</td>\n",
       "      <td>7.801016</td>\n",
       "      <td>25.0</td>\n",
       "    </tr>\n",
       "    <tr>\n",
       "      <th>living with parents and siblings</th>\n",
       "      <td>1.0</td>\n",
       "      <td>7.800604</td>\n",
       "      <td>25.0</td>\n",
       "    </tr>\n",
       "    <tr>\n",
       "      <th>married</th>\n",
       "      <td>1.0</td>\n",
       "      <td>7.790278</td>\n",
       "      <td>25.0</td>\n",
       "    </tr>\n",
       "    <tr>\n",
       "      <th>single</th>\n",
       "      <td>1.0</td>\n",
       "      <td>7.783597</td>\n",
       "      <td>25.0</td>\n",
       "    </tr>\n",
       "  </tbody>\n",
       "</table>\n",
       "</div>"
      ],
      "text/plain": [
       "                                 prices                \n",
       "                                    min      mean   max\n",
       "family_status                                          \n",
       "divorced/widowed                    1.0  7.801016  25.0\n",
       "living with parents and siblings    1.0  7.800604  25.0\n",
       "married                             1.0  7.790278  25.0\n",
       "single                              1.0  7.783597  25.0"
      ]
     },
     "execution_count": 96,
     "metadata": {},
     "output_type": "execute_result"
    }
   ],
   "source": [
    "agg_fam_status_price"
   ]
  },
  {
   "cell_type": "code",
   "execution_count": 97,
   "id": "09962ab1",
   "metadata": {},
   "outputs": [],
   "source": [
    "# aggregating family_status + order_number\n",
    "agg_fam_status_order_number = df.groupby('family_status').agg({'order_number' : ['min', 'mean', 'max']})"
   ]
  },
  {
   "cell_type": "code",
   "execution_count": 98,
   "id": "732e00eb",
   "metadata": {},
   "outputs": [
    {
     "data": {
      "text/html": [
       "<div>\n",
       "<style scoped>\n",
       "    .dataframe tbody tr th:only-of-type {\n",
       "        vertical-align: middle;\n",
       "    }\n",
       "\n",
       "    .dataframe tbody tr th {\n",
       "        vertical-align: top;\n",
       "    }\n",
       "\n",
       "    .dataframe thead tr th {\n",
       "        text-align: left;\n",
       "    }\n",
       "\n",
       "    .dataframe thead tr:last-of-type th {\n",
       "        text-align: right;\n",
       "    }\n",
       "</style>\n",
       "<table border=\"1\" class=\"dataframe\">\n",
       "  <thead>\n",
       "    <tr>\n",
       "      <th></th>\n",
       "      <th colspan=\"3\" halign=\"left\">order_number</th>\n",
       "    </tr>\n",
       "    <tr>\n",
       "      <th></th>\n",
       "      <th>min</th>\n",
       "      <th>mean</th>\n",
       "      <th>max</th>\n",
       "    </tr>\n",
       "    <tr>\n",
       "      <th>family_status</th>\n",
       "      <th></th>\n",
       "      <th></th>\n",
       "      <th></th>\n",
       "    </tr>\n",
       "  </thead>\n",
       "  <tbody>\n",
       "    <tr>\n",
       "      <th>divorced/widowed</th>\n",
       "      <td>1</td>\n",
       "      <td>17.993355</td>\n",
       "      <td>99</td>\n",
       "    </tr>\n",
       "    <tr>\n",
       "      <th>living with parents and siblings</th>\n",
       "      <td>1</td>\n",
       "      <td>18.000712</td>\n",
       "      <td>99</td>\n",
       "    </tr>\n",
       "    <tr>\n",
       "      <th>married</th>\n",
       "      <td>1</td>\n",
       "      <td>17.778731</td>\n",
       "      <td>99</td>\n",
       "    </tr>\n",
       "    <tr>\n",
       "      <th>single</th>\n",
       "      <td>1</td>\n",
       "      <td>17.939521</td>\n",
       "      <td>99</td>\n",
       "    </tr>\n",
       "  </tbody>\n",
       "</table>\n",
       "</div>"
      ],
      "text/plain": [
       "                                 order_number               \n",
       "                                          min       mean max\n",
       "family_status                                               \n",
       "divorced/widowed                            1  17.993355  99\n",
       "living with parents and siblings            1  18.000712  99\n",
       "married                                     1  17.778731  99\n",
       "single                                      1  17.939521  99"
      ]
     },
     "execution_count": 98,
     "metadata": {},
     "output_type": "execute_result"
    }
   ],
   "source": [
    "agg_fam_status_order_number"
   ]
  },
  {
   "cell_type": "code",
   "execution_count": 99,
   "id": "119329f9",
   "metadata": {},
   "outputs": [],
   "source": [
    "# aggregating dependants + prices\n",
    "agg_number_of_dependants_price = df.groupby('dependants').agg({'prices' : ['min', 'mean', 'max']})"
   ]
  },
  {
   "cell_type": "code",
   "execution_count": 100,
   "id": "dfe14095",
   "metadata": {},
   "outputs": [
    {
     "data": {
      "text/html": [
       "<div>\n",
       "<style scoped>\n",
       "    .dataframe tbody tr th:only-of-type {\n",
       "        vertical-align: middle;\n",
       "    }\n",
       "\n",
       "    .dataframe tbody tr th {\n",
       "        vertical-align: top;\n",
       "    }\n",
       "\n",
       "    .dataframe thead tr th {\n",
       "        text-align: left;\n",
       "    }\n",
       "\n",
       "    .dataframe thead tr:last-of-type th {\n",
       "        text-align: right;\n",
       "    }\n",
       "</style>\n",
       "<table border=\"1\" class=\"dataframe\">\n",
       "  <thead>\n",
       "    <tr>\n",
       "      <th></th>\n",
       "      <th colspan=\"3\" halign=\"left\">prices</th>\n",
       "    </tr>\n",
       "    <tr>\n",
       "      <th></th>\n",
       "      <th>min</th>\n",
       "      <th>mean</th>\n",
       "      <th>max</th>\n",
       "    </tr>\n",
       "    <tr>\n",
       "      <th>dependants</th>\n",
       "      <th></th>\n",
       "      <th></th>\n",
       "      <th></th>\n",
       "    </tr>\n",
       "  </thead>\n",
       "  <tbody>\n",
       "    <tr>\n",
       "      <th>0</th>\n",
       "      <td>1.0</td>\n",
       "      <td>7.789550</td>\n",
       "      <td>25.0</td>\n",
       "    </tr>\n",
       "    <tr>\n",
       "      <th>1</th>\n",
       "      <td>1.0</td>\n",
       "      <td>7.795910</td>\n",
       "      <td>25.0</td>\n",
       "    </tr>\n",
       "    <tr>\n",
       "      <th>2</th>\n",
       "      <td>1.0</td>\n",
       "      <td>7.784014</td>\n",
       "      <td>25.0</td>\n",
       "    </tr>\n",
       "    <tr>\n",
       "      <th>3</th>\n",
       "      <td>1.0</td>\n",
       "      <td>7.792886</td>\n",
       "      <td>25.0</td>\n",
       "    </tr>\n",
       "  </tbody>\n",
       "</table>\n",
       "</div>"
      ],
      "text/plain": [
       "           prices                \n",
       "              min      mean   max\n",
       "dependants                       \n",
       "0             1.0  7.789550  25.0\n",
       "1             1.0  7.795910  25.0\n",
       "2             1.0  7.784014  25.0\n",
       "3             1.0  7.792886  25.0"
      ]
     },
     "execution_count": 100,
     "metadata": {},
     "output_type": "execute_result"
    }
   ],
   "source": [
    "agg_number_of_dependants_price"
   ]
  },
  {
   "cell_type": "code",
   "execution_count": 101,
   "id": "173ea7d7",
   "metadata": {},
   "outputs": [],
   "source": [
    "# aggregating dependants + order_number\n",
    "agg_number_of_dependants_order_number = df.groupby('dependants').agg({'order_number' : ['min', 'mean', 'max']})"
   ]
  },
  {
   "cell_type": "code",
   "execution_count": 102,
   "id": "d6fffab0",
   "metadata": {},
   "outputs": [
    {
     "data": {
      "text/html": [
       "<div>\n",
       "<style scoped>\n",
       "    .dataframe tbody tr th:only-of-type {\n",
       "        vertical-align: middle;\n",
       "    }\n",
       "\n",
       "    .dataframe tbody tr th {\n",
       "        vertical-align: top;\n",
       "    }\n",
       "\n",
       "    .dataframe thead tr th {\n",
       "        text-align: left;\n",
       "    }\n",
       "\n",
       "    .dataframe thead tr:last-of-type th {\n",
       "        text-align: right;\n",
       "    }\n",
       "</style>\n",
       "<table border=\"1\" class=\"dataframe\">\n",
       "  <thead>\n",
       "    <tr>\n",
       "      <th></th>\n",
       "      <th colspan=\"3\" halign=\"left\">order_number</th>\n",
       "    </tr>\n",
       "    <tr>\n",
       "      <th></th>\n",
       "      <th>min</th>\n",
       "      <th>mean</th>\n",
       "      <th>max</th>\n",
       "    </tr>\n",
       "    <tr>\n",
       "      <th>dependants</th>\n",
       "      <th></th>\n",
       "      <th></th>\n",
       "      <th></th>\n",
       "    </tr>\n",
       "  </thead>\n",
       "  <tbody>\n",
       "    <tr>\n",
       "      <th>0</th>\n",
       "      <td>1</td>\n",
       "      <td>17.957920</td>\n",
       "      <td>99</td>\n",
       "    </tr>\n",
       "    <tr>\n",
       "      <th>1</th>\n",
       "      <td>1</td>\n",
       "      <td>17.793269</td>\n",
       "      <td>99</td>\n",
       "    </tr>\n",
       "    <tr>\n",
       "      <th>2</th>\n",
       "      <td>1</td>\n",
       "      <td>17.747767</td>\n",
       "      <td>99</td>\n",
       "    </tr>\n",
       "    <tr>\n",
       "      <th>3</th>\n",
       "      <td>1</td>\n",
       "      <td>17.837402</td>\n",
       "      <td>99</td>\n",
       "    </tr>\n",
       "  </tbody>\n",
       "</table>\n",
       "</div>"
      ],
      "text/plain": [
       "           order_number               \n",
       "                    min       mean max\n",
       "dependants                            \n",
       "0                     1  17.957920  99\n",
       "1                     1  17.793269  99\n",
       "2                     1  17.747767  99\n",
       "3                     1  17.837402  99"
      ]
     },
     "execution_count": 102,
     "metadata": {},
     "output_type": "execute_result"
    }
   ],
   "source": [
    "agg_number_of_dependants_order_number"
   ]
  },
  {
   "cell_type": "code",
   "execution_count": 103,
   "id": "d2cca7de",
   "metadata": {},
   "outputs": [],
   "source": [
    "# aggregating parental_status + prices\n",
    "agg_parental_status_price = df.groupby('parental_status').agg({'prices' : ['min', 'mean', 'max']})"
   ]
  },
  {
   "cell_type": "code",
   "execution_count": 104,
   "id": "b30bd5b4",
   "metadata": {},
   "outputs": [
    {
     "data": {
      "text/html": [
       "<div>\n",
       "<style scoped>\n",
       "    .dataframe tbody tr th:only-of-type {\n",
       "        vertical-align: middle;\n",
       "    }\n",
       "\n",
       "    .dataframe tbody tr th {\n",
       "        vertical-align: top;\n",
       "    }\n",
       "\n",
       "    .dataframe thead tr th {\n",
       "        text-align: left;\n",
       "    }\n",
       "\n",
       "    .dataframe thead tr:last-of-type th {\n",
       "        text-align: right;\n",
       "    }\n",
       "</style>\n",
       "<table border=\"1\" class=\"dataframe\">\n",
       "  <thead>\n",
       "    <tr>\n",
       "      <th></th>\n",
       "      <th colspan=\"3\" halign=\"left\">prices</th>\n",
       "    </tr>\n",
       "    <tr>\n",
       "      <th></th>\n",
       "      <th>min</th>\n",
       "      <th>mean</th>\n",
       "      <th>max</th>\n",
       "    </tr>\n",
       "    <tr>\n",
       "      <th>parental_status</th>\n",
       "      <th></th>\n",
       "      <th></th>\n",
       "      <th></th>\n",
       "    </tr>\n",
       "  </thead>\n",
       "  <tbody>\n",
       "    <tr>\n",
       "      <th>Non-parent</th>\n",
       "      <td>1.0</td>\n",
       "      <td>7.789550</td>\n",
       "      <td>25.0</td>\n",
       "    </tr>\n",
       "    <tr>\n",
       "      <th>Parent</th>\n",
       "      <td>1.0</td>\n",
       "      <td>7.790937</td>\n",
       "      <td>25.0</td>\n",
       "    </tr>\n",
       "  </tbody>\n",
       "</table>\n",
       "</div>"
      ],
      "text/plain": [
       "                prices                \n",
       "                   min      mean   max\n",
       "parental_status                       \n",
       "Non-parent         1.0  7.789550  25.0\n",
       "Parent             1.0  7.790937  25.0"
      ]
     },
     "execution_count": 104,
     "metadata": {},
     "output_type": "execute_result"
    }
   ],
   "source": [
    "agg_parental_status_price"
   ]
  },
  {
   "cell_type": "code",
   "execution_count": 105,
   "id": "be504508",
   "metadata": {},
   "outputs": [],
   "source": [
    "# aggregating parental_status+ order_number\n",
    "agg_parental_status_order_number = df.groupby('parental_status').agg({'order_number' : ['min', 'mean', 'max']})"
   ]
  },
  {
   "cell_type": "code",
   "execution_count": 106,
   "id": "d9e10d02",
   "metadata": {},
   "outputs": [
    {
     "data": {
      "text/html": [
       "<div>\n",
       "<style scoped>\n",
       "    .dataframe tbody tr th:only-of-type {\n",
       "        vertical-align: middle;\n",
       "    }\n",
       "\n",
       "    .dataframe tbody tr th {\n",
       "        vertical-align: top;\n",
       "    }\n",
       "\n",
       "    .dataframe thead tr th {\n",
       "        text-align: left;\n",
       "    }\n",
       "\n",
       "    .dataframe thead tr:last-of-type th {\n",
       "        text-align: right;\n",
       "    }\n",
       "</style>\n",
       "<table border=\"1\" class=\"dataframe\">\n",
       "  <thead>\n",
       "    <tr>\n",
       "      <th></th>\n",
       "      <th colspan=\"3\" halign=\"left\">order_number</th>\n",
       "    </tr>\n",
       "    <tr>\n",
       "      <th></th>\n",
       "      <th>min</th>\n",
       "      <th>mean</th>\n",
       "      <th>max</th>\n",
       "    </tr>\n",
       "    <tr>\n",
       "      <th>parental_status</th>\n",
       "      <th></th>\n",
       "      <th></th>\n",
       "      <th></th>\n",
       "    </tr>\n",
       "  </thead>\n",
       "  <tbody>\n",
       "    <tr>\n",
       "      <th>Non-parent</th>\n",
       "      <td>1</td>\n",
       "      <td>17.957920</td>\n",
       "      <td>99</td>\n",
       "    </tr>\n",
       "    <tr>\n",
       "      <th>Parent</th>\n",
       "      <td>1</td>\n",
       "      <td>17.792888</td>\n",
       "      <td>99</td>\n",
       "    </tr>\n",
       "  </tbody>\n",
       "</table>\n",
       "</div>"
      ],
      "text/plain": [
       "                order_number               \n",
       "                         min       mean max\n",
       "parental_status                            \n",
       "Non-parent                 1  17.957920  99\n",
       "Parent                     1  17.792888  99"
      ]
     },
     "execution_count": 106,
     "metadata": {},
     "output_type": "execute_result"
    }
   ],
   "source": [
    "agg_parental_status_order_number"
   ]
  },
  {
   "cell_type": "markdown",
   "id": "809989ec",
   "metadata": {},
   "source": [
    "8.\tCompare your customer profiles with regions and departments. Can you identify a link between them? Customers may demonstrate different behaviors across regions, which could make this information important."
   ]
  },
  {
   "cell_type": "code",
   "execution_count": 108,
   "id": "115c773d",
   "metadata": {},
   "outputs": [
    {
     "data": {
      "image/png": "[encoded data removed]",
      "text/plain": [
       "<Figure size 432x288 with 1 Axes>"
      ]
     },
     "metadata": {
      "needs_background": "light"
     },
     "output_type": "display_data"
    }
   ],
   "source": [
    "region_bar = df['region'].value_counts().sort_index().plot.bar(color = sns.color_palette('coolwarm', 4))\n",
    "plt.xticks(rotation= 45, horizontalalignment=\"center\")\n",
    "plt.tight_layout()"
   ]
  },
  {
   "cell_type": "code",
   "execution_count": 109,
   "id": "0ac2877e",
   "metadata": {},
   "outputs": [],
   "source": [
    "# export \"region_bar\" Bar Chart\n",
    "region_bar.figure.savefig(os.path.join(path, '04 Analysis', 'Visualizations', 'region_bar.png'))"
   ]
  },
  {
   "cell_type": "code",
   "execution_count": 110,
   "id": "64de7b6b",
   "metadata": {},
   "outputs": [],
   "source": [
    "# Crosstab for region and parental_status\n",
    "region_parent = pd.crosstab(df['region'], df['parental_status'], dropna = False)"
   ]
  },
  {
   "cell_type": "code",
   "execution_count": 111,
   "id": "7be0b864",
   "metadata": {},
   "outputs": [
    {
     "data": {
      "image/png": "[encoded data removed]",
      "text/plain": [
       "<Figure size 432x288 with 1 Axes>"
      ]
     },
     "metadata": {
      "needs_background": "light"
     },
     "output_type": "display_data"
    }
   ],
   "source": [
    "bar_region_parent = region_parent.plot.bar(stacked = True, color = sns.color_palette('Purples', 2))\n",
    "plt.legend(title = 'parental_status',loc='upper left')\n",
    "plt.xticks(rotation=45, horizontalalignment=\"center\")\n",
    "plt.tight_layout()"
   ]
  },
  {
   "cell_type": "code",
   "execution_count": 112,
   "id": "b0886f5f",
   "metadata": {},
   "outputs": [],
   "source": [
    "# Crosstab for region and income_range\n",
    "region_income = pd.crosstab(df['region'], df['income_range'], dropna = False)"
   ]
  },
  {
   "cell_type": "code",
   "execution_count": 116,
   "id": "91407271",
   "metadata": {},
   "outputs": [
    {
     "data": {
      "image/png": "[encoded data removed]",
      "text/plain": [
       "<Figure size 432x288 with 1 Axes>"
      ]
     },
     "metadata": {
      "needs_background": "light"
     },
     "output_type": "display_data"
    }
   ],
   "source": [
    "bar_region_income = region_income.plot.bar(stacked = True, color = sns.color_palette('Blues_r', 9))\n",
    "plt.legend(title = 'income',loc='center left', bbox_to_anchor=(1, 0.5))\n",
    "plt.xticks(rotation=45)\n",
    "plt.tight_layout()"
   ]
  },
  {
   "cell_type": "code",
   "execution_count": 117,
   "id": "250ff219",
   "metadata": {},
   "outputs": [],
   "source": [
    "# Crosstab for region and age_group\n",
    "region_age = pd.crosstab(df['region'], df['age_group'], dropna = False)"
   ]
  },
  {
   "cell_type": "code",
   "execution_count": 118,
   "id": "fef12d0f",
   "metadata": {},
   "outputs": [
    {
     "data": {
      "image/png": "[encoded data removed]",
      "text/plain": [
       "<Figure size 432x288 with 1 Axes>"
      ]
     },
     "metadata": {
      "needs_background": "light"
     },
     "output_type": "display_data"
    }
   ],
   "source": [
    "bar_region_age = region_age.plot.bar(stacked = True, color = sns.color_palette('Greens_r', 7))\n",
    "plt.legend(title = 'age',loc='center left', bbox_to_anchor=(1, 0.5))\n",
    "plt.xticks(rotation=45)\n",
    "plt.tight_layout()"
   ]
  },
  {
   "cell_type": "code",
   "execution_count": 119,
   "id": "8ecfca02",
   "metadata": {},
   "outputs": [],
   "source": [
    "# export \"bar_region_parent\" Bar Chart\n",
    "bar_region_parent.figure.savefig(os.path.join(path, '04 Analysis', 'Visualizations', 'bar_region_parent.png'))"
   ]
  },
  {
   "cell_type": "code",
   "execution_count": 120,
   "id": "fd59464e",
   "metadata": {},
   "outputs": [],
   "source": [
    "# export \"bar_region_income\" Bar Chart\n",
    "bar_region_income.figure.savefig(os.path.join(path, '04 Analysis', 'Visualizations', 'bar_region_income.png'))"
   ]
  },
  {
   "cell_type": "code",
   "execution_count": 121,
   "id": "f4dca531",
   "metadata": {},
   "outputs": [],
   "source": [
    "# export \"bar_region_age\" Bar Chart\n",
    "bar_region_age.figure.savefig(os.path.join(path, '04 Analysis', 'Visualizations', 'bar_region_age.png'))"
   ]
  },
  {
   "cell_type": "code",
   "execution_count": 122,
   "id": "ebfbd758",
   "metadata": {},
   "outputs": [],
   "source": [
    "# Export data to pkl\n",
    "df.to_pickle(os.path.join(path, '02 Data Sets','Prepared Data', 'df_5.pkl'))"
   ]
  },
  {
   "cell_type": "code",
   "execution_count": null,
   "id": "2c2c111c",
   "metadata": {},
   "outputs": [],
   "source": []
  }
 ],
 "metadata": {
  "kernelspec": {
   "display_name": "Python 3 (ipykernel)",
   "language": "python",
   "name": "python3"
  },
  "language_info": {
   "codemirror_mode": {
    "name": "ipython",
    "version": 3
   },
   "file_extension": ".py",
   "mimetype": "text/x-python",
   "name": "python",
   "nbconvert_exporter": "python",
   "pygments_lexer": "ipython3",
   "version": "3.9.7"
  }
 },
 "nbformat": 4,
 "nbformat_minor": 5
}
